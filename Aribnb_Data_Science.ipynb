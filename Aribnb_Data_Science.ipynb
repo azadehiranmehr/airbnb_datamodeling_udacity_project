{
 "cells": [
  {
   "cell_type": "markdown",
   "metadata": {},
   "source": [
    "This notebook will follow the CRISP-DM process .First we need to  understanding the business and the data . Initial analysis has been performed to see what variables we have in each of the datasets provided from Airbnb in order to create some useful business related questions and insights. The raw data will be read in and examined using basic statistical analysis and visualisations. I selected one of the famous opened datasets in the internet which is Airbnb dataset. I will use [Boston Airbnb](https://www.kaggle.com/airbnb/boston/) and [Seattle Airbnb](https://www.kaggle.com/airbnb/seattle/data) datasets. \n",
    "I did data cleansing, data wrangling and data preparation before answering the question or doing data modeling.\n",
    "Here, I will try to answer four questions which are:\n",
    "- What is most common property type for rent in each state?\n",
    "- What aspects correlate well to the listing review scores rating?\n",
    "- How can I predict the listings prices in Boston and Seattle?  \n",
    "\n",
    "In order to answer the questions, I will follow the CRISP-DM process which are: Business understanding, Data understanding, Data preparation, Modeling, Evaluation, Deployment.\n",
    "\n",
    "\n",
    "*I will not apply the last step.* "
   ]
  },
  {
   "cell_type": "markdown",
   "metadata": {},
   "source": [
    "## Data Understanding\n",
    "\n",
    "The goal of this step is to understand what you want to accomplish from a business perspective and to set the project objectives.  \n",
    "\n",
    "The project objectives are:\n",
    "- Identifying  the most presented property type for rent in each state.\n",
    "- Finding the relations between the listing review score and the other features in the dataset.\n",
    "- Identifying  the average of the home renting prices in Seattle and Boston and knowing in which seasons the prices spike.\n",
    "- Predicting the listings prices in Boston and Seattle."
   ]
  },
  {
   "cell_type": "code",
   "execution_count": 1,
   "metadata": {},
   "outputs": [],
   "source": [
    "\n",
    "import numpy as np\n",
    "import pandas as pd\n",
    "import matplotlib.pyplot as plt\n",
    "%matplotlib inline\n",
    "# Sklearn for data prep\n",
    "from sklearn.preprocessing import MultiLabelBinarizer\n",
    "import re\n",
    "\n",
    "# Imports basic functions\n",
    "import pandas as pd\n",
    "import numpy as np\n",
    "import re\n",
    "\n",
    "# Imports functions for plotting graphs\n",
    "import matplotlib.pyplot as plt\n",
    "import seaborn as sns\n",
    "from datetime import date\n",
    "import matplotlib.style as style\n",
    "\n",
    "# Sklearn imports\n",
    "#Import machine learning\n",
    "from sklearn.linear_model import LinearRegression\n",
    "from sklearn.ensemble import RandomForestRegressor\n",
    "import xgboost\n",
    "\n",
    "from sklearn.model_selection import train_test_split #split\n",
    "from sklearn.metrics import r2_score, mean_squared_error #metrics"
   ]
  },
  {
   "cell_type": "markdown",
   "metadata": {},
   "source": [
    "## Data Understanding\n",
    "\n",
    "This step includes data loading and data exploration. "
   ]
  },
  {
   "cell_type": "code",
   "execution_count": 2,
   "metadata": {},
   "outputs": [],
   "source": [
    "# Read in the .csv files for Seattle \n",
    "Seattle_Cal = pd.read_csv('Data/Seattle/calendar.csv')\n",
    "Seattle_List = pd.read_csv('Data/Seattle/listings.csv')\n",
    "Seattle_Rev = pd.read_csv('Data/Seattle/reviews.csv')\n",
    "\n",
    "# Read in the .csv files for Boston \n",
    "Boston_Cal = pd.read_csv('Data/Boston/calendar.csv')\n",
    "Boston_List = pd.read_csv('Data/Boston/listings.csv')\n",
    "Boston_Rev = pd.read_csv('Data/Boston/reviews.csv')"
   ]
  },
  {
   "cell_type": "markdown",
   "metadata": {},
   "source": [
    "Understanding Seattle Calender"
   ]
  },
  {
   "cell_type": "code",
   "execution_count": 3,
   "metadata": {},
   "outputs": [
    {
     "data": {
      "text/html": [
       "<div>\n",
       "<style scoped>\n",
       "    .dataframe tbody tr th:only-of-type {\n",
       "        vertical-align: middle;\n",
       "    }\n",
       "\n",
       "    .dataframe tbody tr th {\n",
       "        vertical-align: top;\n",
       "    }\n",
       "\n",
       "    .dataframe thead th {\n",
       "        text-align: right;\n",
       "    }\n",
       "</style>\n",
       "<table border=\"1\" class=\"dataframe\">\n",
       "  <thead>\n",
       "    <tr style=\"text-align: right;\">\n",
       "      <th></th>\n",
       "      <th>listing_id</th>\n",
       "      <th>date</th>\n",
       "      <th>available</th>\n",
       "      <th>price</th>\n",
       "    </tr>\n",
       "  </thead>\n",
       "  <tbody>\n",
       "    <tr>\n",
       "      <th>0</th>\n",
       "      <td>241032</td>\n",
       "      <td>2016-01-04</td>\n",
       "      <td>t</td>\n",
       "      <td>$85.00</td>\n",
       "    </tr>\n",
       "    <tr>\n",
       "      <th>1</th>\n",
       "      <td>241032</td>\n",
       "      <td>2016-01-05</td>\n",
       "      <td>t</td>\n",
       "      <td>$85.00</td>\n",
       "    </tr>\n",
       "    <tr>\n",
       "      <th>2</th>\n",
       "      <td>241032</td>\n",
       "      <td>2016-01-06</td>\n",
       "      <td>f</td>\n",
       "      <td>NaN</td>\n",
       "    </tr>\n",
       "    <tr>\n",
       "      <th>3</th>\n",
       "      <td>241032</td>\n",
       "      <td>2016-01-07</td>\n",
       "      <td>f</td>\n",
       "      <td>NaN</td>\n",
       "    </tr>\n",
       "    <tr>\n",
       "      <th>4</th>\n",
       "      <td>241032</td>\n",
       "      <td>2016-01-08</td>\n",
       "      <td>f</td>\n",
       "      <td>NaN</td>\n",
       "    </tr>\n",
       "  </tbody>\n",
       "</table>\n",
       "</div>"
      ],
      "text/plain": [
       "   listing_id        date available   price\n",
       "0      241032  2016-01-04         t  $85.00\n",
       "1      241032  2016-01-05         t  $85.00\n",
       "2      241032  2016-01-06         f     NaN\n",
       "3      241032  2016-01-07         f     NaN\n",
       "4      241032  2016-01-08         f     NaN"
      ]
     },
     "execution_count": 3,
     "metadata": {},
     "output_type": "execute_result"
    }
   ],
   "source": [
    "# Look at the head of the calender.csv\n",
    "Seattle_Cal.head()"
   ]
  },
  {
   "cell_type": "code",
   "execution_count": 4,
   "metadata": {},
   "outputs": [
    {
     "data": {
      "text/plain": [
       "listing_id     0.000000\n",
       "date           0.000000\n",
       "available      0.000000\n",
       "price         32.938998\n",
       "dtype: float64"
      ]
     },
     "execution_count": 4,
     "metadata": {},
     "output_type": "execute_result"
    }
   ],
   "source": [
    "# Check the proption of NaN's in the price column\n",
    "pd.isnull(Seattle_Cal).sum()/len(Seattle_Cal)*100"
   ]
  },
  {
   "cell_type": "code",
   "execution_count": 5,
   "metadata": {},
   "outputs": [
    {
     "data": {
      "text/plain": [
       "(1393570, 4)"
      ]
     },
     "execution_count": 5,
     "metadata": {},
     "output_type": "execute_result"
    }
   ],
   "source": [
    "Seattle_Cal.shape"
   ]
  },
  {
   "cell_type": "code",
   "execution_count": 6,
   "metadata": {},
   "outputs": [
    {
     "data": {
      "text/plain": [
       "3818"
      ]
     },
     "execution_count": 6,
     "metadata": {},
     "output_type": "execute_result"
    }
   ],
   "source": [
    "# Count the number of different ID's\n",
    "len(Seattle_Cal.listing_id.unique())"
   ]
  },
  {
   "cell_type": "code",
   "execution_count": 7,
   "metadata": {},
   "outputs": [
    {
     "name": "stdout",
     "output_type": "stream",
     "text": [
      "<class 'pandas.core.frame.DataFrame'>\n",
      "RangeIndex: 1393570 entries, 0 to 1393569\n",
      "Data columns (total 4 columns):\n",
      " #   Column      Non-Null Count    Dtype \n",
      "---  ------      --------------    ----- \n",
      " 0   listing_id  1393570 non-null  int64 \n",
      " 1   date        1393570 non-null  object\n",
      " 2   available   1393570 non-null  object\n",
      " 3   price       934542 non-null   object\n",
      "dtypes: int64(1), object(3)\n",
      "memory usage: 42.5+ MB\n"
     ]
    }
   ],
   "source": [
    "Seattle_Cal.info()"
   ]
  },
  {
   "cell_type": "code",
   "execution_count": 8,
   "metadata": {},
   "outputs": [
    {
     "data": {
      "text/plain": [
       "True    3818\n",
       "Name: date, dtype: int64"
      ]
     },
     "execution_count": 8,
     "metadata": {},
     "output_type": "execute_result"
    }
   ],
   "source": [
    "# Check if all days are counted for all listings\n",
    "(Seattle_Cal.groupby(['listing_id']).count() == 365)['date'].value_counts()"
   ]
  },
  {
   "cell_type": "code",
   "execution_count": 9,
   "metadata": {},
   "outputs": [
    {
     "data": {
      "text/plain": [
       "listing_id     0.000000\n",
       "date           0.000000\n",
       "available      0.000000\n",
       "price         32.938998\n",
       "dtype: float64"
      ]
     },
     "execution_count": 9,
     "metadata": {},
     "output_type": "execute_result"
    }
   ],
   "source": [
    "# Check the proption of NaN's in the price column\n",
    "pd.isnull(Seattle_Cal).sum()/len(Seattle_Cal)*100"
   ]
  },
  {
   "cell_type": "code",
   "execution_count": 10,
   "metadata": {},
   "outputs": [
    {
     "data": {
      "text/plain": [
       "t    67.061002\n",
       "f    32.938998\n",
       "Name: available, dtype: float64"
      ]
     },
     "execution_count": 10,
     "metadata": {},
     "output_type": "execute_result"
    }
   ],
   "source": [
    "# Check if the number of 'f' values same as missing prices\n",
    "Seattle_Cal['available'].value_counts()/len(Seattle_Cal)*100"
   ]
  },
  {
   "cell_type": "markdown",
   "metadata": {},
   "source": [
    "Uderstanding Boston Calander"
   ]
  },
  {
   "cell_type": "code",
   "execution_count": 11,
   "metadata": {},
   "outputs": [
    {
     "data": {
      "text/html": [
       "<div>\n",
       "<style scoped>\n",
       "    .dataframe tbody tr th:only-of-type {\n",
       "        vertical-align: middle;\n",
       "    }\n",
       "\n",
       "    .dataframe tbody tr th {\n",
       "        vertical-align: top;\n",
       "    }\n",
       "\n",
       "    .dataframe thead th {\n",
       "        text-align: right;\n",
       "    }\n",
       "</style>\n",
       "<table border=\"1\" class=\"dataframe\">\n",
       "  <thead>\n",
       "    <tr style=\"text-align: right;\">\n",
       "      <th></th>\n",
       "      <th>listing_id</th>\n",
       "      <th>date</th>\n",
       "      <th>available</th>\n",
       "      <th>price</th>\n",
       "    </tr>\n",
       "  </thead>\n",
       "  <tbody>\n",
       "    <tr>\n",
       "      <th>0</th>\n",
       "      <td>12147973</td>\n",
       "      <td>2017-09-05</td>\n",
       "      <td>f</td>\n",
       "      <td>NaN</td>\n",
       "    </tr>\n",
       "    <tr>\n",
       "      <th>1</th>\n",
       "      <td>12147973</td>\n",
       "      <td>2017-09-04</td>\n",
       "      <td>f</td>\n",
       "      <td>NaN</td>\n",
       "    </tr>\n",
       "    <tr>\n",
       "      <th>2</th>\n",
       "      <td>12147973</td>\n",
       "      <td>2017-09-03</td>\n",
       "      <td>f</td>\n",
       "      <td>NaN</td>\n",
       "    </tr>\n",
       "    <tr>\n",
       "      <th>3</th>\n",
       "      <td>12147973</td>\n",
       "      <td>2017-09-02</td>\n",
       "      <td>f</td>\n",
       "      <td>NaN</td>\n",
       "    </tr>\n",
       "    <tr>\n",
       "      <th>4</th>\n",
       "      <td>12147973</td>\n",
       "      <td>2017-09-01</td>\n",
       "      <td>f</td>\n",
       "      <td>NaN</td>\n",
       "    </tr>\n",
       "  </tbody>\n",
       "</table>\n",
       "</div>"
      ],
      "text/plain": [
       "   listing_id        date available price\n",
       "0    12147973  2017-09-05         f   NaN\n",
       "1    12147973  2017-09-04         f   NaN\n",
       "2    12147973  2017-09-03         f   NaN\n",
       "3    12147973  2017-09-02         f   NaN\n",
       "4    12147973  2017-09-01         f   NaN"
      ]
     },
     "execution_count": 11,
     "metadata": {},
     "output_type": "execute_result"
    }
   ],
   "source": [
    "# Look at the top 5 rows of the calender.csv\n",
    "Boston_Cal.head()"
   ]
  },
  {
   "cell_type": "code",
   "execution_count": 12,
   "metadata": {},
   "outputs": [
    {
     "data": {
      "text/plain": [
       "3585"
      ]
     },
     "execution_count": 12,
     "metadata": {},
     "output_type": "execute_result"
    }
   ],
   "source": [
    "# Count the number of different ID's\n",
    "len(Boston_Cal.listing_id.unique())"
   ]
  },
  {
   "cell_type": "code",
   "execution_count": 13,
   "metadata": {},
   "outputs": [
    {
     "data": {
      "text/plain": [
       "(1308890, 4)"
      ]
     },
     "execution_count": 13,
     "metadata": {},
     "output_type": "execute_result"
    }
   ],
   "source": [
    "Boston_Cal.shape"
   ]
  },
  {
   "cell_type": "code",
   "execution_count": 14,
   "metadata": {},
   "outputs": [
    {
     "data": {
      "text/plain": [
       "<bound method DataFrame.info of          listing_id        date available price\n",
       "0          12147973  2017-09-05         f   NaN\n",
       "1          12147973  2017-09-04         f   NaN\n",
       "2          12147973  2017-09-03         f   NaN\n",
       "3          12147973  2017-09-02         f   NaN\n",
       "4          12147973  2017-09-01         f   NaN\n",
       "...             ...         ...       ...   ...\n",
       "1308885    14504422  2016-09-10         f   NaN\n",
       "1308886    14504422  2016-09-09         f   NaN\n",
       "1308887    14504422  2016-09-08         f   NaN\n",
       "1308888    14504422  2016-09-07         f   NaN\n",
       "1308889    14504422  2016-09-06         f   NaN\n",
       "\n",
       "[1308890 rows x 4 columns]>"
      ]
     },
     "execution_count": 14,
     "metadata": {},
     "output_type": "execute_result"
    }
   ],
   "source": [
    "Boston_Cal.info"
   ]
  },
  {
   "cell_type": "code",
   "execution_count": 15,
   "metadata": {},
   "outputs": [
    {
     "data": {
      "text/plain": [
       "True     3584\n",
       "False       1\n",
       "Name: date, dtype: int64"
      ]
     },
     "execution_count": 15,
     "metadata": {},
     "output_type": "execute_result"
    }
   ],
   "source": [
    "# Check if all days are counted for all listings\n",
    "(Boston_Cal.groupby(['listing_id']).count() == 365)['date'].value_counts()"
   ]
  },
  {
   "cell_type": "code",
   "execution_count": 16,
   "metadata": {},
   "outputs": [
    {
     "data": {
      "text/plain": [
       "listing_id     0.000000\n",
       "date           0.000000\n",
       "available      0.000000\n",
       "price         47.780377\n",
       "dtype: float64"
      ]
     },
     "execution_count": 16,
     "metadata": {},
     "output_type": "execute_result"
    }
   ],
   "source": [
    "# Check the proption of NaN's in the price column\n",
    "pd.isnull(Boston_Cal).sum()/len(Seattle_Cal)*100"
   ]
  },
  {
   "cell_type": "code",
   "execution_count": 17,
   "metadata": {},
   "outputs": [
    {
     "data": {
      "text/plain": [
       "f    50.871578\n",
       "t    49.128422\n",
       "Name: available, dtype: float64"
      ]
     },
     "execution_count": 17,
     "metadata": {},
     "output_type": "execute_result"
    }
   ],
   "source": [
    "# Check if the number of 'f' values corresponds to missing prices\n",
    "Boston_Cal['available'].value_counts()/len(Boston_Cal)*100"
   ]
  },
  {
   "cell_type": "markdown",
   "metadata": {},
   "source": [
    "Understanding  Listing.csv"
   ]
  },
  {
   "cell_type": "code",
   "execution_count": 18,
   "metadata": {},
   "outputs": [
    {
     "data": {
      "text/plain": [
       "(3585, 95)"
      ]
     },
     "execution_count": 18,
     "metadata": {},
     "output_type": "execute_result"
    }
   ],
   "source": [
    "# The size of Boston dataset \n",
    "Boston_List.shape"
   ]
  },
  {
   "cell_type": "code",
   "execution_count": 19,
   "metadata": {},
   "outputs": [
    {
     "data": {
      "text/plain": [
       "(3818, 92)"
      ]
     },
     "execution_count": 19,
     "metadata": {},
     "output_type": "execute_result"
    }
   ],
   "source": [
    "# The size of Seattle dataset \n",
    "Seattle_List.shape"
   ]
  },
  {
   "cell_type": "code",
   "execution_count": 20,
   "metadata": {},
   "outputs": [
    {
     "name": "stdout",
     "output_type": "stream",
     "text": [
      "<class 'pandas.core.frame.DataFrame'>\n",
      "RangeIndex: 3585 entries, 0 to 3584\n",
      "Data columns (total 95 columns):\n",
      " #   Column                            Non-Null Count  Dtype  \n",
      "---  ------                            --------------  -----  \n",
      " 0   id                                3585 non-null   int64  \n",
      " 1   listing_url                       3585 non-null   object \n",
      " 2   scrape_id                         3585 non-null   int64  \n",
      " 3   last_scraped                      3585 non-null   object \n",
      " 4   name                              3585 non-null   object \n",
      " 5   summary                           3442 non-null   object \n",
      " 6   space                             2528 non-null   object \n",
      " 7   description                       3585 non-null   object \n",
      " 8   experiences_offered               3585 non-null   object \n",
      " 9   neighborhood_overview             2170 non-null   object \n",
      " 10  notes                             1610 non-null   object \n",
      " 11  transit                           2295 non-null   object \n",
      " 12  access                            2096 non-null   object \n",
      " 13  interaction                       2031 non-null   object \n",
      " 14  house_rules                       2393 non-null   object \n",
      " 15  thumbnail_url                     2986 non-null   object \n",
      " 16  medium_url                        2986 non-null   object \n",
      " 17  picture_url                       3585 non-null   object \n",
      " 18  xl_picture_url                    2986 non-null   object \n",
      " 19  host_id                           3585 non-null   int64  \n",
      " 20  host_url                          3585 non-null   object \n",
      " 21  host_name                         3585 non-null   object \n",
      " 22  host_since                        3585 non-null   object \n",
      " 23  host_location                     3574 non-null   object \n",
      " 24  host_about                        2276 non-null   object \n",
      " 25  host_response_time                3114 non-null   object \n",
      " 26  host_response_rate                3114 non-null   object \n",
      " 27  host_acceptance_rate              3114 non-null   object \n",
      " 28  host_is_superhost                 3585 non-null   object \n",
      " 29  host_thumbnail_url                3585 non-null   object \n",
      " 30  host_picture_url                  3585 non-null   object \n",
      " 31  host_neighbourhood                3246 non-null   object \n",
      " 32  host_listings_count               3585 non-null   int64  \n",
      " 33  host_total_listings_count         3585 non-null   int64  \n",
      " 34  host_verifications                3585 non-null   object \n",
      " 35  host_has_profile_pic              3585 non-null   object \n",
      " 36  host_identity_verified            3585 non-null   object \n",
      " 37  street                            3585 non-null   object \n",
      " 38  neighbourhood                     3042 non-null   object \n",
      " 39  neighbourhood_cleansed            3585 non-null   object \n",
      " 40  neighbourhood_group_cleansed      0 non-null      float64\n",
      " 41  city                              3583 non-null   object \n",
      " 42  state                             3585 non-null   object \n",
      " 43  zipcode                           3547 non-null   object \n",
      " 44  market                            3571 non-null   object \n",
      " 45  smart_location                    3585 non-null   object \n",
      " 46  country_code                      3585 non-null   object \n",
      " 47  country                           3585 non-null   object \n",
      " 48  latitude                          3585 non-null   float64\n",
      " 49  longitude                         3585 non-null   float64\n",
      " 50  is_location_exact                 3585 non-null   object \n",
      " 51  property_type                     3582 non-null   object \n",
      " 52  room_type                         3585 non-null   object \n",
      " 53  accommodates                      3585 non-null   int64  \n",
      " 54  bathrooms                         3571 non-null   float64\n",
      " 55  bedrooms                          3575 non-null   float64\n",
      " 56  beds                              3576 non-null   float64\n",
      " 57  bed_type                          3585 non-null   object \n",
      " 58  amenities                         3585 non-null   object \n",
      " 59  square_feet                       56 non-null     float64\n",
      " 60  price                             3585 non-null   object \n",
      " 61  weekly_price                      892 non-null    object \n",
      " 62  monthly_price                     888 non-null    object \n",
      " 63  security_deposit                  1342 non-null   object \n",
      " 64  cleaning_fee                      2478 non-null   object \n",
      " 65  guests_included                   3585 non-null   int64  \n",
      " 66  extra_people                      3585 non-null   object \n",
      " 67  minimum_nights                    3585 non-null   int64  \n",
      " 68  maximum_nights                    3585 non-null   int64  \n",
      " 69  calendar_updated                  3585 non-null   object \n",
      " 70  has_availability                  0 non-null      float64\n",
      " 71  availability_30                   3585 non-null   int64  \n",
      " 72  availability_60                   3585 non-null   int64  \n",
      " 73  availability_90                   3585 non-null   int64  \n",
      " 74  availability_365                  3585 non-null   int64  \n",
      " 75  calendar_last_scraped             3585 non-null   object \n",
      " 76  number_of_reviews                 3585 non-null   int64  \n",
      " 77  first_review                      2829 non-null   object \n",
      " 78  last_review                       2829 non-null   object \n",
      " 79  review_scores_rating              2772 non-null   float64\n",
      " 80  review_scores_accuracy            2762 non-null   float64\n",
      " 81  review_scores_cleanliness         2767 non-null   float64\n",
      " 82  review_scores_checkin             2765 non-null   float64\n",
      " 83  review_scores_communication       2767 non-null   float64\n",
      " 84  review_scores_location            2763 non-null   float64\n",
      " 85  review_scores_value               2764 non-null   float64\n",
      " 86  requires_license                  3585 non-null   object \n",
      " 87  license                           0 non-null      float64\n",
      " 88  jurisdiction_names                0 non-null      float64\n",
      " 89  instant_bookable                  3585 non-null   object \n",
      " 90  cancellation_policy               3585 non-null   object \n",
      " 91  require_guest_profile_picture     3585 non-null   object \n",
      " 92  require_guest_phone_verification  3585 non-null   object \n",
      " 93  calculated_host_listings_count    3585 non-null   int64  \n",
      " 94  reviews_per_month                 2829 non-null   float64\n",
      "dtypes: float64(18), int64(15), object(62)\n",
      "memory usage: 2.6+ MB\n"
     ]
    }
   ],
   "source": [
    "Boston_List.info()"
   ]
  },
  {
   "cell_type": "code",
   "execution_count": 21,
   "metadata": {
    "scrolled": true
   },
   "outputs": [
    {
     "name": "stdout",
     "output_type": "stream",
     "text": [
      "<class 'pandas.core.frame.DataFrame'>\n",
      "RangeIndex: 3818 entries, 0 to 3817\n",
      "Data columns (total 92 columns):\n",
      " #   Column                            Non-Null Count  Dtype  \n",
      "---  ------                            --------------  -----  \n",
      " 0   id                                3818 non-null   int64  \n",
      " 1   listing_url                       3818 non-null   object \n",
      " 2   scrape_id                         3818 non-null   int64  \n",
      " 3   last_scraped                      3818 non-null   object \n",
      " 4   name                              3818 non-null   object \n",
      " 5   summary                           3641 non-null   object \n",
      " 6   space                             3249 non-null   object \n",
      " 7   description                       3818 non-null   object \n",
      " 8   experiences_offered               3818 non-null   object \n",
      " 9   neighborhood_overview             2786 non-null   object \n",
      " 10  notes                             2212 non-null   object \n",
      " 11  transit                           2884 non-null   object \n",
      " 12  thumbnail_url                     3498 non-null   object \n",
      " 13  medium_url                        3498 non-null   object \n",
      " 14  picture_url                       3818 non-null   object \n",
      " 15  xl_picture_url                    3498 non-null   object \n",
      " 16  host_id                           3818 non-null   int64  \n",
      " 17  host_url                          3818 non-null   object \n",
      " 18  host_name                         3816 non-null   object \n",
      " 19  host_since                        3816 non-null   object \n",
      " 20  host_location                     3810 non-null   object \n",
      " 21  host_about                        2959 non-null   object \n",
      " 22  host_response_time                3295 non-null   object \n",
      " 23  host_response_rate                3295 non-null   object \n",
      " 24  host_acceptance_rate              3045 non-null   object \n",
      " 25  host_is_superhost                 3816 non-null   object \n",
      " 26  host_thumbnail_url                3816 non-null   object \n",
      " 27  host_picture_url                  3816 non-null   object \n",
      " 28  host_neighbourhood                3518 non-null   object \n",
      " 29  host_listings_count               3816 non-null   float64\n",
      " 30  host_total_listings_count         3816 non-null   float64\n",
      " 31  host_verifications                3818 non-null   object \n",
      " 32  host_has_profile_pic              3816 non-null   object \n",
      " 33  host_identity_verified            3816 non-null   object \n",
      " 34  street                            3818 non-null   object \n",
      " 35  neighbourhood                     3402 non-null   object \n",
      " 36  neighbourhood_cleansed            3818 non-null   object \n",
      " 37  neighbourhood_group_cleansed      3818 non-null   object \n",
      " 38  city                              3818 non-null   object \n",
      " 39  state                             3818 non-null   object \n",
      " 40  zipcode                           3811 non-null   object \n",
      " 41  market                            3818 non-null   object \n",
      " 42  smart_location                    3818 non-null   object \n",
      " 43  country_code                      3818 non-null   object \n",
      " 44  country                           3818 non-null   object \n",
      " 45  latitude                          3818 non-null   float64\n",
      " 46  longitude                         3818 non-null   float64\n",
      " 47  is_location_exact                 3818 non-null   object \n",
      " 48  property_type                     3817 non-null   object \n",
      " 49  room_type                         3818 non-null   object \n",
      " 50  accommodates                      3818 non-null   int64  \n",
      " 51  bathrooms                         3802 non-null   float64\n",
      " 52  bedrooms                          3812 non-null   float64\n",
      " 53  beds                              3817 non-null   float64\n",
      " 54  bed_type                          3818 non-null   object \n",
      " 55  amenities                         3818 non-null   object \n",
      " 56  square_feet                       97 non-null     float64\n",
      " 57  price                             3818 non-null   object \n",
      " 58  weekly_price                      2009 non-null   object \n",
      " 59  monthly_price                     1517 non-null   object \n",
      " 60  security_deposit                  1866 non-null   object \n",
      " 61  cleaning_fee                      2788 non-null   object \n",
      " 62  guests_included                   3818 non-null   int64  \n",
      " 63  extra_people                      3818 non-null   object \n",
      " 64  minimum_nights                    3818 non-null   int64  \n",
      " 65  maximum_nights                    3818 non-null   int64  \n",
      " 66  calendar_updated                  3818 non-null   object \n",
      " 67  has_availability                  3818 non-null   object \n",
      " 68  availability_30                   3818 non-null   int64  \n",
      " 69  availability_60                   3818 non-null   int64  \n",
      " 70  availability_90                   3818 non-null   int64  \n",
      " 71  availability_365                  3818 non-null   int64  \n",
      " 72  calendar_last_scraped             3818 non-null   object \n",
      " 73  number_of_reviews                 3818 non-null   int64  \n",
      " 74  first_review                      3191 non-null   object \n",
      " 75  last_review                       3191 non-null   object \n",
      " 76  review_scores_rating              3171 non-null   float64\n",
      " 77  review_scores_accuracy            3160 non-null   float64\n",
      " 78  review_scores_cleanliness         3165 non-null   float64\n",
      " 79  review_scores_checkin             3160 non-null   float64\n",
      " 80  review_scores_communication       3167 non-null   float64\n",
      " 81  review_scores_location            3163 non-null   float64\n",
      " 82  review_scores_value               3162 non-null   float64\n",
      " 83  requires_license                  3818 non-null   object \n",
      " 84  license                           0 non-null      float64\n",
      " 85  jurisdiction_names                3818 non-null   object \n",
      " 86  instant_bookable                  3818 non-null   object \n",
      " 87  cancellation_policy               3818 non-null   object \n",
      " 88  require_guest_profile_picture     3818 non-null   object \n",
      " 89  require_guest_phone_verification  3818 non-null   object \n",
      " 90  calculated_host_listings_count    3818 non-null   int64  \n",
      " 91  reviews_per_month                 3191 non-null   float64\n",
      "dtypes: float64(17), int64(13), object(62)\n",
      "memory usage: 2.7+ MB\n"
     ]
    }
   ],
   "source": [
    "Seattle_List.info()"
   ]
  },
  {
   "cell_type": "code",
   "execution_count": 22,
   "metadata": {
    "scrolled": true
   },
   "outputs": [
    {
     "data": {
      "text/plain": [
       "Index(['listing_url', 'last_scraped', 'name', 'summary', 'space',\n",
       "       'description', 'experiences_offered', 'neighborhood_overview', 'notes',\n",
       "       'transit', 'thumbnail_url', 'medium_url', 'picture_url',\n",
       "       'xl_picture_url', 'host_url', 'host_name', 'host_since',\n",
       "       'host_location', 'host_about', 'host_response_time',\n",
       "       'host_response_rate', 'host_acceptance_rate', 'host_is_superhost',\n",
       "       'host_thumbnail_url', 'host_picture_url', 'host_neighbourhood',\n",
       "       'host_verifications', 'host_has_profile_pic', 'host_identity_verified',\n",
       "       'street', 'neighbourhood', 'neighbourhood_cleansed',\n",
       "       'neighbourhood_group_cleansed', 'city', 'state', 'zipcode', 'market',\n",
       "       'smart_location', 'country_code', 'country', 'is_location_exact',\n",
       "       'property_type', 'room_type', 'bed_type', 'amenities', 'price',\n",
       "       'weekly_price', 'monthly_price', 'security_deposit', 'cleaning_fee',\n",
       "       'extra_people', 'calendar_updated', 'has_availability',\n",
       "       'calendar_last_scraped', 'first_review', 'last_review',\n",
       "       'requires_license', 'jurisdiction_names', 'instant_bookable',\n",
       "       'cancellation_policy', 'require_guest_profile_picture',\n",
       "       'require_guest_phone_verification'],\n",
       "      dtype='object')"
      ]
     },
     "execution_count": 22,
     "metadata": {},
     "output_type": "execute_result"
    }
   ],
   "source": [
    "Seattle_List.select_dtypes('object').columns"
   ]
  },
  {
   "cell_type": "code",
   "execution_count": 23,
   "metadata": {},
   "outputs": [
    {
     "data": {
      "text/plain": [
       "3818"
      ]
     },
     "execution_count": 23,
     "metadata": {},
     "output_type": "execute_result"
    }
   ],
   "source": [
    "#the number of ID's is same as calender.csv\n",
    "len(Seattle_List.id.unique())"
   ]
  },
  {
   "cell_type": "code",
   "execution_count": 24,
   "metadata": {},
   "outputs": [
    {
     "data": {
      "text/plain": [
       "(3818, 92)"
      ]
     },
     "execution_count": 24,
     "metadata": {},
     "output_type": "execute_result"
    }
   ],
   "source": [
    "# Check if each ID is only listed once\n",
    "Seattle_List.shape"
   ]
  },
  {
   "cell_type": "code",
   "execution_count": 25,
   "metadata": {},
   "outputs": [
    {
     "data": {
      "text/plain": [
       "license                        100.000000\n",
       "square_feet                     97.459403\n",
       "monthly_price                   60.267156\n",
       "security_deposit                51.126244\n",
       "weekly_price                    47.380828\n",
       "notes                           42.063908\n",
       "neighborhood_overview           27.029859\n",
       "cleaning_fee                    26.977475\n",
       "transit                         24.463070\n",
       "host_about                      22.498690\n",
       "host_acceptance_rate            20.246202\n",
       "review_scores_accuracy          17.234154\n",
       "review_scores_checkin           17.234154\n",
       "review_scores_value             17.181771\n",
       "review_scores_location          17.155579\n",
       "review_scores_cleanliness       17.103195\n",
       "review_scores_communication     17.050812\n",
       "review_scores_rating            16.946045\n",
       "reviews_per_month               16.422211\n",
       "first_review                    16.422211\n",
       "dtype: float64"
      ]
     },
     "execution_count": 25,
     "metadata": {},
     "output_type": "execute_result"
    }
   ],
   "source": [
    "# Check each of the columns for NaN's and show  one's with highest Nan\n",
    "data = pd.isnull(Seattle_List).sum()/len(Seattle_List)*100\n",
    "data.sort_values(ascending=False).head(20)"
   ]
  },
  {
   "cell_type": "code",
   "execution_count": 26,
   "metadata": {},
   "outputs": [
    {
     "data": {
      "text/plain": [
       "neighbourhood_group_cleansed    100.000000\n",
       "jurisdiction_names              100.000000\n",
       "license                         100.000000\n",
       "has_availability                100.000000\n",
       "square_feet                      98.437936\n",
       "monthly_price                    75.230126\n",
       "weekly_price                     75.118550\n",
       "security_deposit                 62.566248\n",
       "notes                            55.090656\n",
       "interaction                      43.347280\n",
       "access                           41.534170\n",
       "neighborhood_overview            39.470014\n",
       "host_about                       36.513250\n",
       "transit                          35.983264\n",
       "house_rules                      33.249651\n",
       "cleaning_fee                     30.878661\n",
       "space                            29.483961\n",
       "review_scores_accuracy           22.956764\n",
       "review_scores_location           22.928870\n",
       "review_scores_value              22.900976\n",
       "dtype: float64"
      ]
     },
     "execution_count": 26,
     "metadata": {},
     "output_type": "execute_result"
    }
   ],
   "source": [
    "# Check each of the columns for NaN's and show show  one's with highest Nan\n",
    "data = pd.isnull(Boston_List).sum()/len(Boston_List)*100\n",
    "data.sort_values(ascending=False).head(20)"
   ]
  },
  {
   "cell_type": "code",
   "execution_count": null,
   "metadata": {},
   "outputs": [],
   "source": []
  },
  {
   "cell_type": "markdown",
   "metadata": {},
   "source": [
    "## Data Preperation\n",
    "\n",
    "This step inludes data selection and data cleaning. I will remove some columns that I think they are not important in the project. I will also do some necessary data preparation as:\n",
    "\n",
    "- Deleting the different coulmns in Boston dataset. \n",
    "- Exploring the missing values in each column, and finding the columns that have no missing values and the cloumns that have more than 50% missing values.\n",
    "- Converting the price coulmns from object to float.\n",
    "- Converting the date coulmns from object to datetime.\n",
    "\n",
    "*Some of the preperation steps will be done when answering the questions.* "
   ]
  },
  {
   "cell_type": "code",
   "execution_count": 27,
   "metadata": {},
   "outputs": [
    {
     "name": "stdout",
     "output_type": "stream",
     "text": [
      "access\n",
      "interaction\n",
      "house_rules\n"
     ]
    }
   ],
   "source": [
    "# Check the new columns in Boston_List\n",
    "differ_col = []\n",
    "for x in Boston_List.columns:\n",
    "    if x not in Seattle_List.columns:\n",
    "        differ_col.append(x)\n",
    "        print(x)"
   ]
  },
  {
   "cell_type": "code",
   "execution_count": 28,
   "metadata": {},
   "outputs": [],
   "source": [
    "# Delete the differnt coulumns from Boston dataset\n",
    "Boston_List = Boston_List.drop(differ_col, axis = 1)"
   ]
  },
  {
   "cell_type": "code",
   "execution_count": 29,
   "metadata": {},
   "outputs": [
    {
     "data": {
      "text/html": [
       "<div>\n",
       "<style scoped>\n",
       "    .dataframe tbody tr th:only-of-type {\n",
       "        vertical-align: middle;\n",
       "    }\n",
       "\n",
       "    .dataframe tbody tr th {\n",
       "        vertical-align: top;\n",
       "    }\n",
       "\n",
       "    .dataframe thead th {\n",
       "        text-align: right;\n",
       "    }\n",
       "</style>\n",
       "<table border=\"1\" class=\"dataframe\">\n",
       "  <thead>\n",
       "    <tr style=\"text-align: right;\">\n",
       "      <th></th>\n",
       "      <th>id</th>\n",
       "      <th>scrape_id</th>\n",
       "      <th>host_id</th>\n",
       "      <th>host_listings_count</th>\n",
       "      <th>host_total_listings_count</th>\n",
       "      <th>neighbourhood_group_cleansed</th>\n",
       "      <th>latitude</th>\n",
       "      <th>longitude</th>\n",
       "      <th>accommodates</th>\n",
       "      <th>bathrooms</th>\n",
       "      <th>...</th>\n",
       "      <th>review_scores_accuracy</th>\n",
       "      <th>review_scores_cleanliness</th>\n",
       "      <th>review_scores_checkin</th>\n",
       "      <th>review_scores_communication</th>\n",
       "      <th>review_scores_location</th>\n",
       "      <th>review_scores_value</th>\n",
       "      <th>license</th>\n",
       "      <th>jurisdiction_names</th>\n",
       "      <th>calculated_host_listings_count</th>\n",
       "      <th>reviews_per_month</th>\n",
       "    </tr>\n",
       "  </thead>\n",
       "  <tbody>\n",
       "    <tr>\n",
       "      <th>count</th>\n",
       "      <td>3.585000e+03</td>\n",
       "      <td>3.585000e+03</td>\n",
       "      <td>3.585000e+03</td>\n",
       "      <td>3585.000000</td>\n",
       "      <td>3585.000000</td>\n",
       "      <td>0.0</td>\n",
       "      <td>3585.000000</td>\n",
       "      <td>3585.000000</td>\n",
       "      <td>3585.000000</td>\n",
       "      <td>3571.000000</td>\n",
       "      <td>...</td>\n",
       "      <td>2762.000000</td>\n",
       "      <td>2767.000000</td>\n",
       "      <td>2765.000000</td>\n",
       "      <td>2767.000000</td>\n",
       "      <td>2763.000000</td>\n",
       "      <td>2764.000000</td>\n",
       "      <td>0.0</td>\n",
       "      <td>0.0</td>\n",
       "      <td>3585.000000</td>\n",
       "      <td>2829.000000</td>\n",
       "    </tr>\n",
       "    <tr>\n",
       "      <th>mean</th>\n",
       "      <td>8.440875e+06</td>\n",
       "      <td>2.016091e+13</td>\n",
       "      <td>2.492311e+07</td>\n",
       "      <td>58.902371</td>\n",
       "      <td>58.902371</td>\n",
       "      <td>NaN</td>\n",
       "      <td>42.340032</td>\n",
       "      <td>-71.084818</td>\n",
       "      <td>3.041283</td>\n",
       "      <td>1.221647</td>\n",
       "      <td>...</td>\n",
       "      <td>9.431571</td>\n",
       "      <td>9.258041</td>\n",
       "      <td>9.646293</td>\n",
       "      <td>9.646549</td>\n",
       "      <td>9.414043</td>\n",
       "      <td>9.168234</td>\n",
       "      <td>NaN</td>\n",
       "      <td>NaN</td>\n",
       "      <td>12.733891</td>\n",
       "      <td>1.970908</td>\n",
       "    </tr>\n",
       "    <tr>\n",
       "      <th>std</th>\n",
       "      <td>4.500787e+06</td>\n",
       "      <td>8.516813e-01</td>\n",
       "      <td>2.292781e+07</td>\n",
       "      <td>171.119663</td>\n",
       "      <td>171.119663</td>\n",
       "      <td>NaN</td>\n",
       "      <td>0.024403</td>\n",
       "      <td>0.031565</td>\n",
       "      <td>1.778929</td>\n",
       "      <td>0.501487</td>\n",
       "      <td>...</td>\n",
       "      <td>0.931863</td>\n",
       "      <td>1.168977</td>\n",
       "      <td>0.762753</td>\n",
       "      <td>0.735507</td>\n",
       "      <td>0.903436</td>\n",
       "      <td>1.011116</td>\n",
       "      <td>NaN</td>\n",
       "      <td>NaN</td>\n",
       "      <td>29.415076</td>\n",
       "      <td>2.120561</td>\n",
       "    </tr>\n",
       "    <tr>\n",
       "      <th>min</th>\n",
       "      <td>3.353000e+03</td>\n",
       "      <td>2.016091e+13</td>\n",
       "      <td>4.240000e+03</td>\n",
       "      <td>0.000000</td>\n",
       "      <td>0.000000</td>\n",
       "      <td>NaN</td>\n",
       "      <td>42.235942</td>\n",
       "      <td>-71.171789</td>\n",
       "      <td>1.000000</td>\n",
       "      <td>0.000000</td>\n",
       "      <td>...</td>\n",
       "      <td>2.000000</td>\n",
       "      <td>2.000000</td>\n",
       "      <td>2.000000</td>\n",
       "      <td>4.000000</td>\n",
       "      <td>2.000000</td>\n",
       "      <td>2.000000</td>\n",
       "      <td>NaN</td>\n",
       "      <td>NaN</td>\n",
       "      <td>1.000000</td>\n",
       "      <td>0.010000</td>\n",
       "    </tr>\n",
       "    <tr>\n",
       "      <th>25%</th>\n",
       "      <td>4.679319e+06</td>\n",
       "      <td>2.016091e+13</td>\n",
       "      <td>6.103425e+06</td>\n",
       "      <td>1.000000</td>\n",
       "      <td>1.000000</td>\n",
       "      <td>NaN</td>\n",
       "      <td>42.329995</td>\n",
       "      <td>-71.105083</td>\n",
       "      <td>2.000000</td>\n",
       "      <td>1.000000</td>\n",
       "      <td>...</td>\n",
       "      <td>9.000000</td>\n",
       "      <td>9.000000</td>\n",
       "      <td>9.000000</td>\n",
       "      <td>9.000000</td>\n",
       "      <td>9.000000</td>\n",
       "      <td>9.000000</td>\n",
       "      <td>NaN</td>\n",
       "      <td>NaN</td>\n",
       "      <td>1.000000</td>\n",
       "      <td>0.480000</td>\n",
       "    </tr>\n",
       "    <tr>\n",
       "      <th>50%</th>\n",
       "      <td>8.577620e+06</td>\n",
       "      <td>2.016091e+13</td>\n",
       "      <td>1.928100e+07</td>\n",
       "      <td>2.000000</td>\n",
       "      <td>2.000000</td>\n",
       "      <td>NaN</td>\n",
       "      <td>42.345201</td>\n",
       "      <td>-71.078429</td>\n",
       "      <td>2.000000</td>\n",
       "      <td>1.000000</td>\n",
       "      <td>...</td>\n",
       "      <td>10.000000</td>\n",
       "      <td>10.000000</td>\n",
       "      <td>10.000000</td>\n",
       "      <td>10.000000</td>\n",
       "      <td>10.000000</td>\n",
       "      <td>9.000000</td>\n",
       "      <td>NaN</td>\n",
       "      <td>NaN</td>\n",
       "      <td>2.000000</td>\n",
       "      <td>1.170000</td>\n",
       "    </tr>\n",
       "    <tr>\n",
       "      <th>75%</th>\n",
       "      <td>1.278953e+07</td>\n",
       "      <td>2.016091e+13</td>\n",
       "      <td>3.622147e+07</td>\n",
       "      <td>7.000000</td>\n",
       "      <td>7.000000</td>\n",
       "      <td>NaN</td>\n",
       "      <td>42.354685</td>\n",
       "      <td>-71.062155</td>\n",
       "      <td>4.000000</td>\n",
       "      <td>1.000000</td>\n",
       "      <td>...</td>\n",
       "      <td>10.000000</td>\n",
       "      <td>10.000000</td>\n",
       "      <td>10.000000</td>\n",
       "      <td>10.000000</td>\n",
       "      <td>10.000000</td>\n",
       "      <td>10.000000</td>\n",
       "      <td>NaN</td>\n",
       "      <td>NaN</td>\n",
       "      <td>6.000000</td>\n",
       "      <td>2.720000</td>\n",
       "    </tr>\n",
       "    <tr>\n",
       "      <th>max</th>\n",
       "      <td>1.493346e+07</td>\n",
       "      <td>2.016091e+13</td>\n",
       "      <td>9.385411e+07</td>\n",
       "      <td>749.000000</td>\n",
       "      <td>749.000000</td>\n",
       "      <td>NaN</td>\n",
       "      <td>42.389982</td>\n",
       "      <td>-71.000100</td>\n",
       "      <td>16.000000</td>\n",
       "      <td>6.000000</td>\n",
       "      <td>...</td>\n",
       "      <td>10.000000</td>\n",
       "      <td>10.000000</td>\n",
       "      <td>10.000000</td>\n",
       "      <td>10.000000</td>\n",
       "      <td>10.000000</td>\n",
       "      <td>10.000000</td>\n",
       "      <td>NaN</td>\n",
       "      <td>NaN</td>\n",
       "      <td>136.000000</td>\n",
       "      <td>19.150000</td>\n",
       "    </tr>\n",
       "  </tbody>\n",
       "</table>\n",
       "<p>8 rows × 33 columns</p>\n",
       "</div>"
      ],
      "text/plain": [
       "                 id     scrape_id       host_id  host_listings_count  \\\n",
       "count  3.585000e+03  3.585000e+03  3.585000e+03          3585.000000   \n",
       "mean   8.440875e+06  2.016091e+13  2.492311e+07            58.902371   \n",
       "std    4.500787e+06  8.516813e-01  2.292781e+07           171.119663   \n",
       "min    3.353000e+03  2.016091e+13  4.240000e+03             0.000000   \n",
       "25%    4.679319e+06  2.016091e+13  6.103425e+06             1.000000   \n",
       "50%    8.577620e+06  2.016091e+13  1.928100e+07             2.000000   \n",
       "75%    1.278953e+07  2.016091e+13  3.622147e+07             7.000000   \n",
       "max    1.493346e+07  2.016091e+13  9.385411e+07           749.000000   \n",
       "\n",
       "       host_total_listings_count  neighbourhood_group_cleansed     latitude  \\\n",
       "count                3585.000000                           0.0  3585.000000   \n",
       "mean                   58.902371                           NaN    42.340032   \n",
       "std                   171.119663                           NaN     0.024403   \n",
       "min                     0.000000                           NaN    42.235942   \n",
       "25%                     1.000000                           NaN    42.329995   \n",
       "50%                     2.000000                           NaN    42.345201   \n",
       "75%                     7.000000                           NaN    42.354685   \n",
       "max                   749.000000                           NaN    42.389982   \n",
       "\n",
       "         longitude  accommodates    bathrooms  ...  review_scores_accuracy  \\\n",
       "count  3585.000000   3585.000000  3571.000000  ...             2762.000000   \n",
       "mean    -71.084818      3.041283     1.221647  ...                9.431571   \n",
       "std       0.031565      1.778929     0.501487  ...                0.931863   \n",
       "min     -71.171789      1.000000     0.000000  ...                2.000000   \n",
       "25%     -71.105083      2.000000     1.000000  ...                9.000000   \n",
       "50%     -71.078429      2.000000     1.000000  ...               10.000000   \n",
       "75%     -71.062155      4.000000     1.000000  ...               10.000000   \n",
       "max     -71.000100     16.000000     6.000000  ...               10.000000   \n",
       "\n",
       "       review_scores_cleanliness  review_scores_checkin  \\\n",
       "count                2767.000000            2765.000000   \n",
       "mean                    9.258041               9.646293   \n",
       "std                     1.168977               0.762753   \n",
       "min                     2.000000               2.000000   \n",
       "25%                     9.000000               9.000000   \n",
       "50%                    10.000000              10.000000   \n",
       "75%                    10.000000              10.000000   \n",
       "max                    10.000000              10.000000   \n",
       "\n",
       "       review_scores_communication  review_scores_location  \\\n",
       "count                  2767.000000             2763.000000   \n",
       "mean                      9.646549                9.414043   \n",
       "std                       0.735507                0.903436   \n",
       "min                       4.000000                2.000000   \n",
       "25%                       9.000000                9.000000   \n",
       "50%                      10.000000               10.000000   \n",
       "75%                      10.000000               10.000000   \n",
       "max                      10.000000               10.000000   \n",
       "\n",
       "       review_scores_value  license  jurisdiction_names  \\\n",
       "count          2764.000000      0.0                 0.0   \n",
       "mean              9.168234      NaN                 NaN   \n",
       "std               1.011116      NaN                 NaN   \n",
       "min               2.000000      NaN                 NaN   \n",
       "25%               9.000000      NaN                 NaN   \n",
       "50%               9.000000      NaN                 NaN   \n",
       "75%              10.000000      NaN                 NaN   \n",
       "max              10.000000      NaN                 NaN   \n",
       "\n",
       "       calculated_host_listings_count  reviews_per_month  \n",
       "count                     3585.000000        2829.000000  \n",
       "mean                        12.733891           1.970908  \n",
       "std                         29.415076           2.120561  \n",
       "min                          1.000000           0.010000  \n",
       "25%                          1.000000           0.480000  \n",
       "50%                          2.000000           1.170000  \n",
       "75%                          6.000000           2.720000  \n",
       "max                        136.000000          19.150000  \n",
       "\n",
       "[8 rows x 33 columns]"
      ]
     },
     "execution_count": 29,
     "metadata": {},
     "output_type": "execute_result"
    }
   ],
   "source": [
    "Boston_List.describe()"
   ]
  },
  {
   "cell_type": "code",
   "execution_count": 30,
   "metadata": {},
   "outputs": [
    {
     "data": {
      "text/html": [
       "<div>\n",
       "<style scoped>\n",
       "    .dataframe tbody tr th:only-of-type {\n",
       "        vertical-align: middle;\n",
       "    }\n",
       "\n",
       "    .dataframe tbody tr th {\n",
       "        vertical-align: top;\n",
       "    }\n",
       "\n",
       "    .dataframe thead th {\n",
       "        text-align: right;\n",
       "    }\n",
       "</style>\n",
       "<table border=\"1\" class=\"dataframe\">\n",
       "  <thead>\n",
       "    <tr style=\"text-align: right;\">\n",
       "      <th></th>\n",
       "      <th>id</th>\n",
       "      <th>scrape_id</th>\n",
       "      <th>host_id</th>\n",
       "      <th>host_listings_count</th>\n",
       "      <th>host_total_listings_count</th>\n",
       "      <th>latitude</th>\n",
       "      <th>longitude</th>\n",
       "      <th>accommodates</th>\n",
       "      <th>bathrooms</th>\n",
       "      <th>bedrooms</th>\n",
       "      <th>...</th>\n",
       "      <th>review_scores_rating</th>\n",
       "      <th>review_scores_accuracy</th>\n",
       "      <th>review_scores_cleanliness</th>\n",
       "      <th>review_scores_checkin</th>\n",
       "      <th>review_scores_communication</th>\n",
       "      <th>review_scores_location</th>\n",
       "      <th>review_scores_value</th>\n",
       "      <th>license</th>\n",
       "      <th>calculated_host_listings_count</th>\n",
       "      <th>reviews_per_month</th>\n",
       "    </tr>\n",
       "  </thead>\n",
       "  <tbody>\n",
       "    <tr>\n",
       "      <th>count</th>\n",
       "      <td>3.818000e+03</td>\n",
       "      <td>3.818000e+03</td>\n",
       "      <td>3.818000e+03</td>\n",
       "      <td>3816.000000</td>\n",
       "      <td>3816.000000</td>\n",
       "      <td>3818.000000</td>\n",
       "      <td>3818.000000</td>\n",
       "      <td>3818.000000</td>\n",
       "      <td>3802.000000</td>\n",
       "      <td>3812.000000</td>\n",
       "      <td>...</td>\n",
       "      <td>3171.000000</td>\n",
       "      <td>3160.000000</td>\n",
       "      <td>3165.000000</td>\n",
       "      <td>3160.000000</td>\n",
       "      <td>3167.000000</td>\n",
       "      <td>3163.000000</td>\n",
       "      <td>3162.000000</td>\n",
       "      <td>0.0</td>\n",
       "      <td>3818.000000</td>\n",
       "      <td>3191.000000</td>\n",
       "    </tr>\n",
       "    <tr>\n",
       "      <th>mean</th>\n",
       "      <td>5.550111e+06</td>\n",
       "      <td>2.016010e+13</td>\n",
       "      <td>1.578556e+07</td>\n",
       "      <td>7.157757</td>\n",
       "      <td>7.157757</td>\n",
       "      <td>47.628961</td>\n",
       "      <td>-122.333103</td>\n",
       "      <td>3.349398</td>\n",
       "      <td>1.259469</td>\n",
       "      <td>1.307712</td>\n",
       "      <td>...</td>\n",
       "      <td>94.539262</td>\n",
       "      <td>9.636392</td>\n",
       "      <td>9.556398</td>\n",
       "      <td>9.786709</td>\n",
       "      <td>9.809599</td>\n",
       "      <td>9.608916</td>\n",
       "      <td>9.452245</td>\n",
       "      <td>NaN</td>\n",
       "      <td>2.946307</td>\n",
       "      <td>2.078919</td>\n",
       "    </tr>\n",
       "    <tr>\n",
       "      <th>std</th>\n",
       "      <td>2.962660e+06</td>\n",
       "      <td>0.000000e+00</td>\n",
       "      <td>1.458382e+07</td>\n",
       "      <td>28.628149</td>\n",
       "      <td>28.628149</td>\n",
       "      <td>0.043052</td>\n",
       "      <td>0.031745</td>\n",
       "      <td>1.977599</td>\n",
       "      <td>0.590369</td>\n",
       "      <td>0.883395</td>\n",
       "      <td>...</td>\n",
       "      <td>6.606083</td>\n",
       "      <td>0.698031</td>\n",
       "      <td>0.797274</td>\n",
       "      <td>0.595499</td>\n",
       "      <td>0.568211</td>\n",
       "      <td>0.629053</td>\n",
       "      <td>0.750259</td>\n",
       "      <td>NaN</td>\n",
       "      <td>5.893029</td>\n",
       "      <td>1.822348</td>\n",
       "    </tr>\n",
       "    <tr>\n",
       "      <th>min</th>\n",
       "      <td>3.335000e+03</td>\n",
       "      <td>2.016010e+13</td>\n",
       "      <td>4.193000e+03</td>\n",
       "      <td>1.000000</td>\n",
       "      <td>1.000000</td>\n",
       "      <td>47.505088</td>\n",
       "      <td>-122.417219</td>\n",
       "      <td>1.000000</td>\n",
       "      <td>0.000000</td>\n",
       "      <td>0.000000</td>\n",
       "      <td>...</td>\n",
       "      <td>20.000000</td>\n",
       "      <td>2.000000</td>\n",
       "      <td>3.000000</td>\n",
       "      <td>2.000000</td>\n",
       "      <td>2.000000</td>\n",
       "      <td>4.000000</td>\n",
       "      <td>2.000000</td>\n",
       "      <td>NaN</td>\n",
       "      <td>1.000000</td>\n",
       "      <td>0.020000</td>\n",
       "    </tr>\n",
       "    <tr>\n",
       "      <th>25%</th>\n",
       "      <td>3.258256e+06</td>\n",
       "      <td>2.016010e+13</td>\n",
       "      <td>3.275204e+06</td>\n",
       "      <td>1.000000</td>\n",
       "      <td>1.000000</td>\n",
       "      <td>47.609418</td>\n",
       "      <td>-122.354320</td>\n",
       "      <td>2.000000</td>\n",
       "      <td>1.000000</td>\n",
       "      <td>1.000000</td>\n",
       "      <td>...</td>\n",
       "      <td>93.000000</td>\n",
       "      <td>9.000000</td>\n",
       "      <td>9.000000</td>\n",
       "      <td>10.000000</td>\n",
       "      <td>10.000000</td>\n",
       "      <td>9.000000</td>\n",
       "      <td>9.000000</td>\n",
       "      <td>NaN</td>\n",
       "      <td>1.000000</td>\n",
       "      <td>0.695000</td>\n",
       "    </tr>\n",
       "    <tr>\n",
       "      <th>50%</th>\n",
       "      <td>6.118244e+06</td>\n",
       "      <td>2.016010e+13</td>\n",
       "      <td>1.055814e+07</td>\n",
       "      <td>1.000000</td>\n",
       "      <td>1.000000</td>\n",
       "      <td>47.623601</td>\n",
       "      <td>-122.328874</td>\n",
       "      <td>3.000000</td>\n",
       "      <td>1.000000</td>\n",
       "      <td>1.000000</td>\n",
       "      <td>...</td>\n",
       "      <td>96.000000</td>\n",
       "      <td>10.000000</td>\n",
       "      <td>10.000000</td>\n",
       "      <td>10.000000</td>\n",
       "      <td>10.000000</td>\n",
       "      <td>10.000000</td>\n",
       "      <td>10.000000</td>\n",
       "      <td>NaN</td>\n",
       "      <td>1.000000</td>\n",
       "      <td>1.540000</td>\n",
       "    </tr>\n",
       "    <tr>\n",
       "      <th>75%</th>\n",
       "      <td>8.035127e+06</td>\n",
       "      <td>2.016010e+13</td>\n",
       "      <td>2.590309e+07</td>\n",
       "      <td>3.000000</td>\n",
       "      <td>3.000000</td>\n",
       "      <td>47.662694</td>\n",
       "      <td>-122.310800</td>\n",
       "      <td>4.000000</td>\n",
       "      <td>1.000000</td>\n",
       "      <td>2.000000</td>\n",
       "      <td>...</td>\n",
       "      <td>99.000000</td>\n",
       "      <td>10.000000</td>\n",
       "      <td>10.000000</td>\n",
       "      <td>10.000000</td>\n",
       "      <td>10.000000</td>\n",
       "      <td>10.000000</td>\n",
       "      <td>10.000000</td>\n",
       "      <td>NaN</td>\n",
       "      <td>2.000000</td>\n",
       "      <td>3.000000</td>\n",
       "    </tr>\n",
       "    <tr>\n",
       "      <th>max</th>\n",
       "      <td>1.034016e+07</td>\n",
       "      <td>2.016010e+13</td>\n",
       "      <td>5.320861e+07</td>\n",
       "      <td>502.000000</td>\n",
       "      <td>502.000000</td>\n",
       "      <td>47.733358</td>\n",
       "      <td>-122.240607</td>\n",
       "      <td>16.000000</td>\n",
       "      <td>8.000000</td>\n",
       "      <td>7.000000</td>\n",
       "      <td>...</td>\n",
       "      <td>100.000000</td>\n",
       "      <td>10.000000</td>\n",
       "      <td>10.000000</td>\n",
       "      <td>10.000000</td>\n",
       "      <td>10.000000</td>\n",
       "      <td>10.000000</td>\n",
       "      <td>10.000000</td>\n",
       "      <td>NaN</td>\n",
       "      <td>37.000000</td>\n",
       "      <td>12.150000</td>\n",
       "    </tr>\n",
       "  </tbody>\n",
       "</table>\n",
       "<p>8 rows × 30 columns</p>\n",
       "</div>"
      ],
      "text/plain": [
       "                 id     scrape_id       host_id  host_listings_count  \\\n",
       "count  3.818000e+03  3.818000e+03  3.818000e+03          3816.000000   \n",
       "mean   5.550111e+06  2.016010e+13  1.578556e+07             7.157757   \n",
       "std    2.962660e+06  0.000000e+00  1.458382e+07            28.628149   \n",
       "min    3.335000e+03  2.016010e+13  4.193000e+03             1.000000   \n",
       "25%    3.258256e+06  2.016010e+13  3.275204e+06             1.000000   \n",
       "50%    6.118244e+06  2.016010e+13  1.055814e+07             1.000000   \n",
       "75%    8.035127e+06  2.016010e+13  2.590309e+07             3.000000   \n",
       "max    1.034016e+07  2.016010e+13  5.320861e+07           502.000000   \n",
       "\n",
       "       host_total_listings_count     latitude    longitude  accommodates  \\\n",
       "count                3816.000000  3818.000000  3818.000000   3818.000000   \n",
       "mean                    7.157757    47.628961  -122.333103      3.349398   \n",
       "std                    28.628149     0.043052     0.031745      1.977599   \n",
       "min                     1.000000    47.505088  -122.417219      1.000000   \n",
       "25%                     1.000000    47.609418  -122.354320      2.000000   \n",
       "50%                     1.000000    47.623601  -122.328874      3.000000   \n",
       "75%                     3.000000    47.662694  -122.310800      4.000000   \n",
       "max                   502.000000    47.733358  -122.240607     16.000000   \n",
       "\n",
       "         bathrooms     bedrooms  ...  review_scores_rating  \\\n",
       "count  3802.000000  3812.000000  ...           3171.000000   \n",
       "mean      1.259469     1.307712  ...             94.539262   \n",
       "std       0.590369     0.883395  ...              6.606083   \n",
       "min       0.000000     0.000000  ...             20.000000   \n",
       "25%       1.000000     1.000000  ...             93.000000   \n",
       "50%       1.000000     1.000000  ...             96.000000   \n",
       "75%       1.000000     2.000000  ...             99.000000   \n",
       "max       8.000000     7.000000  ...            100.000000   \n",
       "\n",
       "       review_scores_accuracy  review_scores_cleanliness  \\\n",
       "count             3160.000000                3165.000000   \n",
       "mean                 9.636392                   9.556398   \n",
       "std                  0.698031                   0.797274   \n",
       "min                  2.000000                   3.000000   \n",
       "25%                  9.000000                   9.000000   \n",
       "50%                 10.000000                  10.000000   \n",
       "75%                 10.000000                  10.000000   \n",
       "max                 10.000000                  10.000000   \n",
       "\n",
       "       review_scores_checkin  review_scores_communication  \\\n",
       "count            3160.000000                  3167.000000   \n",
       "mean                9.786709                     9.809599   \n",
       "std                 0.595499                     0.568211   \n",
       "min                 2.000000                     2.000000   \n",
       "25%                10.000000                    10.000000   \n",
       "50%                10.000000                    10.000000   \n",
       "75%                10.000000                    10.000000   \n",
       "max                10.000000                    10.000000   \n",
       "\n",
       "       review_scores_location  review_scores_value  license  \\\n",
       "count             3163.000000          3162.000000      0.0   \n",
       "mean                 9.608916             9.452245      NaN   \n",
       "std                  0.629053             0.750259      NaN   \n",
       "min                  4.000000             2.000000      NaN   \n",
       "25%                  9.000000             9.000000      NaN   \n",
       "50%                 10.000000            10.000000      NaN   \n",
       "75%                 10.000000            10.000000      NaN   \n",
       "max                 10.000000            10.000000      NaN   \n",
       "\n",
       "       calculated_host_listings_count  reviews_per_month  \n",
       "count                     3818.000000        3191.000000  \n",
       "mean                         2.946307           2.078919  \n",
       "std                          5.893029           1.822348  \n",
       "min                          1.000000           0.020000  \n",
       "25%                          1.000000           0.695000  \n",
       "50%                          1.000000           1.540000  \n",
       "75%                          2.000000           3.000000  \n",
       "max                         37.000000          12.150000  \n",
       "\n",
       "[8 rows x 30 columns]"
      ]
     },
     "execution_count": 30,
     "metadata": {},
     "output_type": "execute_result"
    }
   ],
   "source": [
    "Seattle_List.describe()"
   ]
  },
  {
   "cell_type": "code",
   "execution_count": 31,
   "metadata": {},
   "outputs": [],
   "source": [
    "# Dropped columnsthat have very little to do with how much the AirBnB costs: state, dates of reviews, availability, if it's bookable, host info\n",
    "   \n",
    "    # Variables like steert were seen as being to granular    \n",
    "keep_col = ['id', 'neighbourhood', 'zipcode', 'property_type', \n",
    "                'room_type', 'accommodates', 'bathrooms', 'bedrooms', 'beds', \n",
    "                'bed_type', 'amenities', 'square_feet', 'price', 'weekly_price', \n",
    "                'monthly_price', 'number_of_reviews', 'review_scores_rating',\n",
    "                'review_scores_accuracy', 'review_scores_cleanliness', \n",
    "                'review_scores_checkin', 'review_scores_communication', \n",
    "                'review_scores_location', 'review_scores_value', 'reviews_per_month']\n",
    "    \n",
    "Seattle_List = Seattle_List[keep_col]"
   ]
  },
  {
   "cell_type": "code",
   "execution_count": 32,
   "metadata": {},
   "outputs": [
    {
     "name": "stdout",
     "output_type": "stream",
     "text": [
      "Columns dropped: set()\n"
     ]
    }
   ],
   "source": [
    "# Removes and prints columns with more than 90% of data missing\n",
    "# Just drops 'square_feet' as it has very little data\n",
    "data_dpcol = Seattle_List.dropna(axis=1, thresh=len(data)*0.1)\n",
    "dropped_col = set(Seattle_List.columns).difference(list(data_dpcol.columns))\n",
    "print(f'Columns dropped: {dropped_col}')"
   ]
  },
  {
   "cell_type": "code",
   "execution_count": 33,
   "metadata": {},
   "outputs": [
    {
     "name": "stdout",
     "output_type": "stream",
     "text": [
      "Number of rows dropped: 0\n"
     ]
    }
   ],
   "source": [
    "    # Removes rows with all missing values (Othes may be useful)\n",
    "data_fil = data_dpcol.dropna(axis=0, thresh=1)\n",
    "print(f'Number of rows dropped: {len(data_dpcol)-len(data_fil)}')"
   ]
  },
  {
   "cell_type": "code",
   "execution_count": 34,
   "metadata": {},
   "outputs": [],
   "source": [
    "# Selects the columns related to price\n",
    "price_columns = ['price','weekly_price','monthly_price']\n",
    "\n",
    "for column in price_columns:\n",
    "    #Zero NaN's for now as they can be replaced by an average later on\n",
    "    data_fil[column] = data_fil[column].fillna(0)\n",
    "\n",
    "    #Formats the price columns\n",
    "    data_fil[column] = [int(str(x).replace('$','').replace(',','').replace('.00','')) \n",
    "                            for x in data_fil[column]]"
   ]
  },
  {
   "cell_type": "code",
   "execution_count": 35,
   "metadata": {},
   "outputs": [
    {
     "data": {
      "text/plain": [
       "Index(['id', 'room_type', 'accommodates', 'bed_type', 'amenities', 'price',\n",
       "       'number_of_reviews'],\n",
       "      dtype='object')"
      ]
     },
     "execution_count": 35,
     "metadata": {},
     "output_type": "execute_result"
    }
   ],
   "source": [
    "# Find the columns that have no missing values in Seattle listing dataset\n",
    "Seattle_List .columns[Seattle_List .isnull().sum() == 0]"
   ]
  },
  {
   "cell_type": "code",
   "execution_count": 36,
   "metadata": {},
   "outputs": [],
   "source": [
    "# Dropped columnsthat have very little to do with how much the AirBnB costs: state, dates of reviews, availability, if it's bookable, host info\n",
    "   \n",
    "    # Variables like steert were seen as being to granular    \n",
    "keep_col = ['id', 'neighbourhood', 'zipcode', 'property_type', \n",
    "                'room_type', 'accommodates', 'bathrooms', 'bedrooms', 'beds', \n",
    "                'bed_type', 'amenities', 'square_feet', 'price', 'weekly_price', \n",
    "                'monthly_price', 'number_of_reviews', 'review_scores_rating',\n",
    "                'review_scores_accuracy', 'review_scores_cleanliness', \n",
    "                'review_scores_checkin', 'review_scores_communication', \n",
    "                'review_scores_location', 'review_scores_value', 'reviews_per_month']\n",
    "    \n",
    "Boston_List = Boston_List[keep_col]"
   ]
  },
  {
   "cell_type": "code",
   "execution_count": 37,
   "metadata": {},
   "outputs": [
    {
     "name": "stdout",
     "output_type": "stream",
     "text": [
      "Columns dropped: set()\n"
     ]
    }
   ],
   "source": [
    "# Removes and prints columns with more than 90% of data missing\n",
    "# Just drops 'square_feet' as it has very little data\n",
    "data_dpcol = Boston_List.dropna(axis=1, thresh=len(data)*0.1)\n",
    "dropped_col = set(Boston_List.columns).difference(list(data_dpcol.columns))\n",
    "print(f'Columns dropped: {dropped_col}')"
   ]
  },
  {
   "cell_type": "code",
   "execution_count": 38,
   "metadata": {},
   "outputs": [
    {
     "name": "stdout",
     "output_type": "stream",
     "text": [
      "Number of rows dropped: 0\n"
     ]
    }
   ],
   "source": [
    "    # Removes rows with all missing values (Othes may be useful)\n",
    "data_fil = data_dpcol.dropna(axis=0, thresh=1)\n",
    "print(f'Number of rows dropped: {len(data_dpcol)-len(data_fil)}')"
   ]
  },
  {
   "cell_type": "code",
   "execution_count": 39,
   "metadata": {},
   "outputs": [],
   "source": [
    "# Selects the columns related to price\n",
    "price_columns = ['price','weekly_price','monthly_price']\n",
    "\n",
    "for column in price_columns:\n",
    "    #Zero NaN's for now as they can be replaced by an average later on\n",
    "    data_fil[column] = data_fil[column].fillna(0)\n",
    "\n",
    "    #Formats the price columns\n",
    "    data_fil[column] = [int(str(x).replace('$','').replace(',','').replace('.00','')) \n",
    "                            for x in data_fil[column]]"
   ]
  },
  {
   "cell_type": "code",
   "execution_count": 40,
   "metadata": {},
   "outputs": [
    {
     "data": {
      "text/plain": [
       "Index(['id', 'room_type', 'accommodates', 'bed_type', 'amenities', 'price',\n",
       "       'number_of_reviews'],\n",
       "      dtype='object')"
      ]
     },
     "execution_count": 40,
     "metadata": {},
     "output_type": "execute_result"
    }
   ],
   "source": [
    "# Find the columns that have no missing values in Seattle listing dataset\n",
    "Boston_List .columns[Boston_List .isnull().sum() == 0]"
   ]
  },
  {
   "cell_type": "code",
   "execution_count": 41,
   "metadata": {},
   "outputs": [
    {
     "data": {
      "text/plain": [
       "Index(['id', 'room_type', 'accommodates', 'bed_type', 'amenities', 'price',\n",
       "       'number_of_reviews'],\n",
       "      dtype='object')"
      ]
     },
     "execution_count": 41,
     "metadata": {},
     "output_type": "execute_result"
    }
   ],
   "source": [
    "# Find the columns that have no missing values in Boston listing dataset\n",
    "Boston_List .columns[Boston_List.isnull().sum() == 0]"
   ]
  },
  {
   "cell_type": "markdown",
   "metadata": {},
   "source": [
    "**Note:** I can see that the columns that do not have missing values are almost same in the two datasets. "
   ]
  },
  {
   "cell_type": "code",
   "execution_count": 42,
   "metadata": {},
   "outputs": [
    {
     "data": {
      "text/plain": [
       "Index(['square_feet', 'monthly_price'], dtype='object')"
      ]
     },
     "execution_count": 42,
     "metadata": {},
     "output_type": "execute_result"
    }
   ],
   "source": [
    "# Find cloumns that have more than 50% missing values in Seattlelisting dataset\n",
    "Seattle_List .columns[Seattle_List .isnull().sum() > Seattle_List .shape[0] * 0.5]"
   ]
  },
  {
   "cell_type": "code",
   "execution_count": 43,
   "metadata": {},
   "outputs": [
    {
     "data": {
      "text/plain": [
       "Index(['square_feet', 'weekly_price', 'monthly_price'], dtype='object')"
      ]
     },
     "execution_count": 43,
     "metadata": {},
     "output_type": "execute_result"
    }
   ],
   "source": [
    "# Find cloumns that have more than 50% missing values in Boston listing dataset\n",
    "Boston_List .columns[Boston_List.isnull().sum() > Boston_List.shape[0] * 0.5]"
   ]
  },
  {
   "cell_type": "markdown",
   "metadata": {},
   "source": [
    "**Note:** \n",
    "The Boston dataset has nine columns that have 50% missing values whearas Seattle dataset has four columns that have 50% missing values. I will delete all the nine columns from the two dataset. \n"
   ]
  },
  {
   "cell_type": "code",
   "execution_count": 44,
   "metadata": {},
   "outputs": [
    {
     "data": {
      "text/plain": [
       "Index(['square_feet', 'monthly_price'], dtype='object')"
      ]
     },
     "execution_count": 44,
     "metadata": {},
     "output_type": "execute_result"
    }
   ],
   "source": [
    "# Delete cloumns that have more than 50% missing values in Boston and Seattle listing datases\n",
    "drop_col_Seattle =Seattle_List.columns[Seattle_List.isnull().sum() > Seattle_List.shape[0] * 0.5]\n",
    "drop_col_Seattle"
   ]
  },
  {
   "cell_type": "code",
   "execution_count": 45,
   "metadata": {},
   "outputs": [
    {
     "data": {
      "text/plain": [
       "Index(['square_feet', 'weekly_price', 'monthly_price'], dtype='object')"
      ]
     },
     "execution_count": 45,
     "metadata": {},
     "output_type": "execute_result"
    }
   ],
   "source": [
    "# Delete cloumns that have more than 50% missing values in Boston and Seattle listing datases\n",
    "drop_col =Boston_List.columns[Boston_List.isnull().sum() > Boston_List.shape[0] * 0.5]\n",
    "drop_col"
   ]
  },
  {
   "cell_type": "code",
   "execution_count": null,
   "metadata": {},
   "outputs": [],
   "source": []
  },
  {
   "cell_type": "code",
   "execution_count": 46,
   "metadata": {},
   "outputs": [],
   "source": [
    "# Convert price to float\n",
    "\n",
    "\n",
    "Seattle_List ['price'] = Seattle_List ['price'].replace('[\\$,]', '', regex=True).astype(float)\n",
    "Seattle_List ['price'] = Seattle_List ['price'].replace('[\\$,]', '', regex=True).astype(float)\n",
    "Boston_List ['price'] = Boston_List ['price'].replace('[\\$,]', '', regex=True).astype(float)\n",
    "Boston_List ['price'] = Boston_List ['price'].replace('[\\$,]', '', regex=True).astype(float)\n",
    "  \n",
    "    "
   ]
  },
  {
   "cell_type": "code",
   "execution_count": 47,
   "metadata": {},
   "outputs": [
    {
     "name": "stdout",
     "output_type": "stream",
     "text": [
      "<class 'pandas.core.frame.DataFrame'>\n",
      "RangeIndex: 3585 entries, 0 to 3584\n",
      "Data columns (total 24 columns):\n",
      " #   Column                       Non-Null Count  Dtype  \n",
      "---  ------                       --------------  -----  \n",
      " 0   id                           3585 non-null   int64  \n",
      " 1   neighbourhood                3042 non-null   object \n",
      " 2   zipcode                      3547 non-null   object \n",
      " 3   property_type                3582 non-null   object \n",
      " 4   room_type                    3585 non-null   object \n",
      " 5   accommodates                 3585 non-null   int64  \n",
      " 6   bathrooms                    3571 non-null   float64\n",
      " 7   bedrooms                     3575 non-null   float64\n",
      " 8   beds                         3576 non-null   float64\n",
      " 9   bed_type                     3585 non-null   object \n",
      " 10  amenities                    3585 non-null   object \n",
      " 11  square_feet                  56 non-null     float64\n",
      " 12  price                        3585 non-null   float64\n",
      " 13  weekly_price                 892 non-null    object \n",
      " 14  monthly_price                888 non-null    object \n",
      " 15  number_of_reviews            3585 non-null   int64  \n",
      " 16  review_scores_rating         2772 non-null   float64\n",
      " 17  review_scores_accuracy       2762 non-null   float64\n",
      " 18  review_scores_cleanliness    2767 non-null   float64\n",
      " 19  review_scores_checkin        2765 non-null   float64\n",
      " 20  review_scores_communication  2767 non-null   float64\n",
      " 21  review_scores_location       2763 non-null   float64\n",
      " 22  review_scores_value          2764 non-null   float64\n",
      " 23  reviews_per_month            2829 non-null   float64\n",
      "dtypes: float64(13), int64(3), object(8)\n",
      "memory usage: 672.3+ KB\n"
     ]
    }
   ],
   "source": [
    "Boston_List.info()"
   ]
  },
  {
   "cell_type": "code",
   "execution_count": 48,
   "metadata": {},
   "outputs": [
    {
     "name": "stdout",
     "output_type": "stream",
     "text": [
      "<class 'pandas.core.frame.DataFrame'>\n",
      "RangeIndex: 3818 entries, 0 to 3817\n",
      "Data columns (total 24 columns):\n",
      " #   Column                       Non-Null Count  Dtype  \n",
      "---  ------                       --------------  -----  \n",
      " 0   id                           3818 non-null   int64  \n",
      " 1   neighbourhood                3402 non-null   object \n",
      " 2   zipcode                      3811 non-null   object \n",
      " 3   property_type                3817 non-null   object \n",
      " 4   room_type                    3818 non-null   object \n",
      " 5   accommodates                 3818 non-null   int64  \n",
      " 6   bathrooms                    3802 non-null   float64\n",
      " 7   bedrooms                     3812 non-null   float64\n",
      " 8   beds                         3817 non-null   float64\n",
      " 9   bed_type                     3818 non-null   object \n",
      " 10  amenities                    3818 non-null   object \n",
      " 11  square_feet                  97 non-null     float64\n",
      " 12  price                        3818 non-null   float64\n",
      " 13  weekly_price                 2009 non-null   object \n",
      " 14  monthly_price                1517 non-null   object \n",
      " 15  number_of_reviews            3818 non-null   int64  \n",
      " 16  review_scores_rating         3171 non-null   float64\n",
      " 17  review_scores_accuracy       3160 non-null   float64\n",
      " 18  review_scores_cleanliness    3165 non-null   float64\n",
      " 19  review_scores_checkin        3160 non-null   float64\n",
      " 20  review_scores_communication  3167 non-null   float64\n",
      " 21  review_scores_location       3163 non-null   float64\n",
      " 22  review_scores_value          3162 non-null   float64\n",
      " 23  reviews_per_month            3191 non-null   float64\n",
      "dtypes: float64(13), int64(3), object(8)\n",
      "memory usage: 716.0+ KB\n"
     ]
    }
   ],
   "source": [
    "Seattle_List.info()"
   ]
  },
  {
   "cell_type": "code",
   "execution_count": 49,
   "metadata": {},
   "outputs": [
    {
     "name": "stdout",
     "output_type": "stream",
     "text": [
      "<class 'pandas.core.frame.DataFrame'>\n",
      "RangeIndex: 1308890 entries, 0 to 1308889\n",
      "Data columns (total 4 columns):\n",
      " #   Column      Non-Null Count    Dtype \n",
      "---  ------      --------------    ----- \n",
      " 0   listing_id  1308890 non-null  int64 \n",
      " 1   date        1308890 non-null  object\n",
      " 2   available   1308890 non-null  object\n",
      " 3   price       643037 non-null   object\n",
      "dtypes: int64(1), object(3)\n",
      "memory usage: 39.9+ MB\n"
     ]
    }
   ],
   "source": [
    "Boston_Cal.info()"
   ]
  },
  {
   "cell_type": "code",
   "execution_count": 50,
   "metadata": {},
   "outputs": [
    {
     "name": "stdout",
     "output_type": "stream",
     "text": [
      "<class 'pandas.core.frame.DataFrame'>\n",
      "RangeIndex: 1393570 entries, 0 to 1393569\n",
      "Data columns (total 4 columns):\n",
      " #   Column      Non-Null Count    Dtype \n",
      "---  ------      --------------    ----- \n",
      " 0   listing_id  1393570 non-null  int64 \n",
      " 1   date        1393570 non-null  object\n",
      " 2   available   1393570 non-null  object\n",
      " 3   price       934542 non-null   object\n",
      "dtypes: int64(1), object(3)\n",
      "memory usage: 42.5+ MB\n"
     ]
    }
   ],
   "source": [
    "Seattle_Cal.info()"
   ]
  },
  {
   "cell_type": "code",
   "execution_count": 51,
   "metadata": {},
   "outputs": [],
   "source": [
    "# The price is only useful for days that have data so drop NaN's in this case\n",
    "# We can interpolate these days in for the seasonal analysis    \n",
    "Seattle_Cal = Seattle_Cal.dropna()\n",
    "Boston_Cal_clean = Boston_Cal.dropna()"
   ]
  },
  {
   "cell_type": "code",
   "execution_count": 52,
   "metadata": {},
   "outputs": [],
   "source": [
    "# Convert to datetime dtype\n",
    " \n",
    "Boston_Cal['date'] = pd.to_datetime(Boston_Cal['date'])\n",
    "Seattle_Cal['date'] = pd.to_datetime(Seattle_Cal['date'])"
   ]
  },
  {
   "cell_type": "code",
   "execution_count": 53,
   "metadata": {},
   "outputs": [],
   "source": [
    "Seattle_Cal['price'] = Seattle_Cal['price'].replace('[\\$,]', '', regex=True).astype(float)\n",
    "Boston_Cal['price'] = Seattle_Cal['price'].replace('[\\$,]', '', regex=True).astype(float)"
   ]
  },
  {
   "cell_type": "code",
   "execution_count": 54,
   "metadata": {},
   "outputs": [],
   "source": [
    "# Drops unwanted columns \n",
    "Seattle_Cal= Seattle_Cal[['listing_id','price','date']]\n",
    "Boston_Cal = Boston_Cal[['listing_id','price','date']]"
   ]
  },
  {
   "cell_type": "code",
   "execution_count": 55,
   "metadata": {},
   "outputs": [
    {
     "data": {
      "text/html": [
       "<div>\n",
       "<style scoped>\n",
       "    .dataframe tbody tr th:only-of-type {\n",
       "        vertical-align: middle;\n",
       "    }\n",
       "\n",
       "    .dataframe tbody tr th {\n",
       "        vertical-align: top;\n",
       "    }\n",
       "\n",
       "    .dataframe thead th {\n",
       "        text-align: right;\n",
       "    }\n",
       "</style>\n",
       "<table border=\"1\" class=\"dataframe\">\n",
       "  <thead>\n",
       "    <tr style=\"text-align: right;\">\n",
       "      <th></th>\n",
       "      <th>listing_id</th>\n",
       "      <th>price</th>\n",
       "      <th>date</th>\n",
       "    </tr>\n",
       "  </thead>\n",
       "  <tbody>\n",
       "    <tr>\n",
       "      <th>0</th>\n",
       "      <td>241032</td>\n",
       "      <td>85.0</td>\n",
       "      <td>2016-01-04</td>\n",
       "    </tr>\n",
       "    <tr>\n",
       "      <th>1</th>\n",
       "      <td>241032</td>\n",
       "      <td>85.0</td>\n",
       "      <td>2016-01-05</td>\n",
       "    </tr>\n",
       "    <tr>\n",
       "      <th>9</th>\n",
       "      <td>241032</td>\n",
       "      <td>85.0</td>\n",
       "      <td>2016-01-13</td>\n",
       "    </tr>\n",
       "    <tr>\n",
       "      <th>10</th>\n",
       "      <td>241032</td>\n",
       "      <td>85.0</td>\n",
       "      <td>2016-01-14</td>\n",
       "    </tr>\n",
       "    <tr>\n",
       "      <th>14</th>\n",
       "      <td>241032</td>\n",
       "      <td>85.0</td>\n",
       "      <td>2016-01-18</td>\n",
       "    </tr>\n",
       "  </tbody>\n",
       "</table>\n",
       "</div>"
      ],
      "text/plain": [
       "    listing_id  price       date\n",
       "0       241032   85.0 2016-01-04\n",
       "1       241032   85.0 2016-01-05\n",
       "9       241032   85.0 2016-01-13\n",
       "10      241032   85.0 2016-01-14\n",
       "14      241032   85.0 2016-01-18"
      ]
     },
     "execution_count": 55,
     "metadata": {},
     "output_type": "execute_result"
    }
   ],
   "source": [
    "Seattle_Cal.head()"
   ]
  },
  {
   "cell_type": "code",
   "execution_count": 56,
   "metadata": {},
   "outputs": [
    {
     "data": {
      "text/html": [
       "<div>\n",
       "<style scoped>\n",
       "    .dataframe tbody tr th:only-of-type {\n",
       "        vertical-align: middle;\n",
       "    }\n",
       "\n",
       "    .dataframe tbody tr th {\n",
       "        vertical-align: top;\n",
       "    }\n",
       "\n",
       "    .dataframe thead th {\n",
       "        text-align: right;\n",
       "    }\n",
       "</style>\n",
       "<table border=\"1\" class=\"dataframe\">\n",
       "  <thead>\n",
       "    <tr style=\"text-align: right;\">\n",
       "      <th></th>\n",
       "      <th>listing_id</th>\n",
       "      <th>price</th>\n",
       "      <th>date</th>\n",
       "    </tr>\n",
       "  </thead>\n",
       "  <tbody>\n",
       "    <tr>\n",
       "      <th>0</th>\n",
       "      <td>12147973</td>\n",
       "      <td>85.0</td>\n",
       "      <td>2017-09-05</td>\n",
       "    </tr>\n",
       "    <tr>\n",
       "      <th>1</th>\n",
       "      <td>12147973</td>\n",
       "      <td>85.0</td>\n",
       "      <td>2017-09-04</td>\n",
       "    </tr>\n",
       "    <tr>\n",
       "      <th>2</th>\n",
       "      <td>12147973</td>\n",
       "      <td>NaN</td>\n",
       "      <td>2017-09-03</td>\n",
       "    </tr>\n",
       "    <tr>\n",
       "      <th>3</th>\n",
       "      <td>12147973</td>\n",
       "      <td>NaN</td>\n",
       "      <td>2017-09-02</td>\n",
       "    </tr>\n",
       "    <tr>\n",
       "      <th>4</th>\n",
       "      <td>12147973</td>\n",
       "      <td>NaN</td>\n",
       "      <td>2017-09-01</td>\n",
       "    </tr>\n",
       "  </tbody>\n",
       "</table>\n",
       "</div>"
      ],
      "text/plain": [
       "   listing_id  price       date\n",
       "0    12147973   85.0 2017-09-05\n",
       "1    12147973   85.0 2017-09-04\n",
       "2    12147973    NaN 2017-09-03\n",
       "3    12147973    NaN 2017-09-02\n",
       "4    12147973    NaN 2017-09-01"
      ]
     },
     "execution_count": 56,
     "metadata": {},
     "output_type": "execute_result"
    }
   ],
   "source": [
    "Boston_Cal.head()"
   ]
  },
  {
   "cell_type": "markdown",
   "metadata": {},
   "source": [
    "## Modeling and evaluation\n",
    "\n",
    "The goal of this step is to build a model to answer the questions. In the first three, I do not need to use a machine learning model so, I will use some statistical techniques with visualization to answer the question. For answering the last question, I will use a machine learning modeland the evaluate it.\n",
    "\n"
   ]
  },
  {
   "cell_type": "markdown",
   "metadata": {},
   "source": [
    "### Question 1: Which neighbourhood has the most amount of rent in each state?\n",
    "\n",
    "To answer this question, I will use viualization. "
   ]
  },
  {
   "cell_type": "code",
   "execution_count": 57,
   "metadata": {},
   "outputs": [
    {
     "data": {
      "image/png": "[encoded data removed]",
      "text/plain": [
       "<Figure size 432x288 with 1 Axes>"
      ]
     },
     "metadata": {
      "needs_background": "light"
     },
     "output_type": "display_data"
    }
   ],
   "source": [
    "# Show  neighborhood which has the most amount of rent in Boston\n",
    "neighbourhood = pd.Series(Boston_List['neighbourhood'].value_counts())\n",
    "(neighbourhood.head(10)/Boston_List.shape[0]).plot(kind = 'bar');\n",
    "plt.title('The amount of rent in Boston per neighbourhood')\n",
    "plt.xlabel('neighbourhood')\n",
    "plt.ylabel('Total');"
   ]
  },
  {
   "cell_type": "code",
   "execution_count": 58,
   "metadata": {},
   "outputs": [
    {
     "data": {
      "image/png": "[encoded data removed]",
      "text/plain": [
       "<Figure size 432x288 with 1 Axes>"
      ]
     },
     "metadata": {
      "needs_background": "light"
     },
     "output_type": "display_data"
    }
   ],
   "source": [
    "# Show  neighborhood which has the most amount of rent in Boston\n",
    "neighbourhood_val = pd.Series(Seattle_List['neighbourhood'].value_counts())\n",
    "(neighbourhood_val.head(10)/Seattle_List.shape[0]).plot(kind = 'bar');\n",
    "plt.title('The amount of rent in Seattle per neighbourhood')\n",
    "plt.xlabel('neighbourhood')\n",
    "plt.ylabel('Total');"
   ]
  },
  {
   "cell_type": "markdown",
   "metadata": {},
   "source": [
    "**The answer:**\n",
    "\n",
    "As we can see, there are different neighbouhood in Seattle and Boston. In Boston is \"Allstone-Brrighton\",  and in Seattle Capital Hill have the highest amount of rent."
   ]
  },
  {
   "cell_type": "markdown",
   "metadata": {},
   "source": [
    "## Question 2: Among Boston and Seattle on average which one has higher listing prices?"
   ]
  },
  {
   "cell_type": "code",
   "execution_count": 59,
   "metadata": {},
   "outputs": [],
   "source": [
    "# First I will look at the price metric in the calender data\n",
    "Seattle_prices = Seattle_Cal.groupby('listing_id').mean()\n",
    "Boston_prices = Boston_Cal.groupby('listing_id').mean()"
   ]
  },
  {
   "cell_type": "code",
   "execution_count": 60,
   "metadata": {},
   "outputs": [],
   "source": [
    "def compare_plot(a,b):\n",
    "        # Setup the graphs and add the main title\n",
    "        fig, axes = plt.subplots(nrows=1, ncols=2)\n",
    "        plt.suptitle(\"Seattle Vs Boston Airbnb Prices (Calender Data)\", y = 1.05, fontsize=20)\n",
    "        ax0, ax1 = axes.flatten()\n",
    "        ax0.hist(a, bins=40 ,color= 'green')\n",
    "        ax1.hist(b, bins=40,color='blue')\n",
    "        ax0.set_xlabel('Prices ($)', fontsize=12)\n",
    "        ax1.set_xlabel('Prices ($)', fontsize=12)\n",
    "        # Sets up the title based on the plotting column and the market    \n",
    "        ax0.set_title(\"Seattle - Listing Prices\", fontsize=12)\n",
    "        # Sets up the title based on the plotting column and the market    \n",
    "        ax1.set_title(\"Boston - Listing Prices\", fontsize=12)\n",
    "        plt.tight_layout()"
   ]
  },
  {
   "cell_type": "code",
   "execution_count": 61,
   "metadata": {},
   "outputs": [
    {
     "data": {
      "image/png": "[encoded data removed]",
      "text/plain": [
       "<Figure size 432x288 with 2 Axes>"
      ]
     },
     "metadata": {
      "needs_background": "light"
     },
     "output_type": "display_data"
    }
   ],
   "source": [
    "compare_plot(Seattle_prices,Boston_prices)"
   ]
  },
  {
   "cell_type": "code",
   "execution_count": 62,
   "metadata": {},
   "outputs": [
    {
     "data": {
      "image/png": "[encoded data removed]",
      "text/plain": [
       "<Figure size 432x288 with 2 Axes>"
      ]
     },
     "metadata": {
      "needs_background": "light"
     },
     "output_type": "display_data"
    }
   ],
   "source": [
    "a = Seattle_prices[Seattle_prices['price'] < 1000]\n",
    "b = Boston_prices[Boston_prices['price'] < 1000]\n",
    "compare_plot(a,b)"
   ]
  },
  {
   "cell_type": "code",
   "execution_count": 63,
   "metadata": {},
   "outputs": [
    {
     "data": {
      "image/png": "[encoded data removed]",
      "text/plain": [
       "<Figure size 432x288 with 2 Axes>"
      ]
     },
     "metadata": {
      "needs_background": "light"
     },
     "output_type": "display_data"
    }
   ],
   "source": [
    " # Setup the graphs and add the main title\n",
    "fig, axes = plt.subplots(nrows=1, ncols=2)\n",
    "plt.suptitle(\"Seattle Vs Boston Airbnb Prices (Calender Data)\", y = 1.05, fontsize=20)\n",
    "ax0, ax1 = axes.flatten()\n",
    "ax0.hist(Seattle_prices, bins=40 ,color= 'green')\n",
    "ax1.hist(Boston_prices, bins=40,color='blue')\n",
    "ax0.set_xlabel('Prices ($)', fontsize=12)\n",
    "ax1.set_xlabel('Prices ($)', fontsize=12)\n",
    "# Sets up the title based on the plotting column and the market    \n",
    "ax0.set_title(\"Seattle - Listing Prices\", fontsize=12)\n",
    "# Sets up the title based on the plotting column and the market    \n",
    "ax1.set_title(\"Boston - Listing Prices\", fontsize=12)\n",
    "plt.tight_layout()"
   ]
  },
  {
   "cell_type": "markdown",
   "metadata": {},
   "source": [
    "The price is skewed signifcantly in both Seattle and Boston. The lower end after 500$ ,the properties are more spread out across the range as a whole whereas Seattle has a huge spike around 100. I replot the above plots to show only prices less than 1000 to better show the differences between them. \n",
    "\n"
   ]
  },
  {
   "cell_type": "markdown",
   "metadata": {},
   "source": [
    "**Answer:**\n",
    " According to the Calender ,from these plots we can conclude that  data Boston on average has higher listing prices than Seattle."
   ]
  },
  {
   "cell_type": "markdown",
   "metadata": {},
   "source": [
    "## Question 3: How can I predict the price listings prices in Boston and Seattle?"
   ]
  },
  {
   "cell_type": "markdown",
   "metadata": {},
   "source": [
    "The goal of this question is to build a model for prices prediction using RandomForestRegressor model. For the ML, I will use the random forests algorthim because with many features here (I have 92 fetatures to train) so it is better to create regression model with random forests algorthim. Moreover, It's training is quick but sometimes it can overfit . This regression model determin the relationship between predictor variables (house features) and response variable(price) which is a continuous variable. Before creating the model, I need to some data preperation techinques. In this part, I will do the following:\n",
    "\n",
    "#### 1-Select some features that I think they are related to the price.\n",
    "#### 2- Change the amenities column from a multi value column to single value columns.\n",
    "#### 3- Change categorical column to dummy categorical columns.\n",
    "#### 4- Fill the mean of the column for any missing values.\n",
    "#### 5- Create training and test sets of data.\n",
    "#### 6- Instantiate a RandomForestRegressor model with normalized data.\n",
    "#### 7- Fit the model to the training data.\n",
    "#### 8- Calculate the rscore value for both the training and test data.\n"
   ]
  },
  {
   "cell_type": "code",
   "execution_count": 376,
   "metadata": {},
   "outputs": [],
   "source": [
    "#prepare calender data for merging\n",
    "# Group the data by listing\n",
    "# Set the listing_id as the index and drop date for calendar_data\n",
    "cal_data_seattle = Seattle_Cal.groupby('listing_id').median().round()\n",
    "cal_data_seattle = Seattle_Cal.groupby('listing_id').median().round()\n",
    " \n",
    "#rename cal_data coloumns to cal_price before merging\n",
    "#cal_data =  cal_data[['price']]\n",
    "cal_data_seattle.columns = ['Cal_price']\n",
    "cal_data_seattle = Seattle_Cal.groupby('listing_id').median().round()\n",
    "\n",
    "# Group the data by listing\n",
    "# Set the listing_id as the index and drop date for calendar_data\n",
    "cal_data_Boston = Seattle_Cal.groupby('listing_id').median().round()\n",
    "cal_data_Boston = Seattle_Cal.groupby('listing_id').median().round()\n",
    " \n",
    "#rename cal_data coloumns to cal_price before merging\n",
    "#cal_data =  cal_data[['price']]\n",
    "cal_data_Boston.columns = ['Cal_price']\n",
    "cal_data_Boston = Boston_Cal.groupby('listing_id').median().round()"
   ]
  },
  {
   "cell_type": "code",
   "execution_count": 377,
   "metadata": {},
   "outputs": [],
   "source": [
    "#fill missing values for review scores columns\n",
    "review_scores_columns = ['review_scores_rating', 'review_scores_accuracy', 'review_scores_cleanliness',\n",
    "                         'review_scores_checkin', 'review_scores_communication', 'review_scores_location',\n",
    "                        'review_scores_value']\n",
    "for column in review_scores_columns:\n",
    "        df[column].fillna(df[column].mean(), inplace = True)"
   ]
  },
  {
   "cell_type": "code",
   "execution_count": 378,
   "metadata": {},
   "outputs": [],
   "source": [
    "\n",
    "#lets merges the two most useful datasets for this analysis calender & listings\n",
    "    \n",
    "# Set the index for Listings as id\n",
    "Seattle_List.index = Seattle_List['id']\n",
    "#lets delet index column because we have already convert it to index of table\n",
    "Listing_data_Seattle = Seattle_List.drop(columns=['id'])\n",
    "# For  this analysis need merged data \n",
    "merged_Seattle = pd.merge(cal_data_seattle, Listing_data_Seattle, left_index=True, right_index=True)\n",
    "\n",
    "# Set the index for Listings as id\n",
    "Boston_List.index = Boston_List['id']\n",
    "#lets delet index column because we have already convert it to index of table\n",
    "Listing_data_Boston = Boston_List.drop(columns=['id'])\n",
    "    \n",
    "# For  this analysis need merged data \n",
    "merged_Boston = pd.merge(cal_data_Boston, Listing_data_Boston, left_index=True, right_index=True)\n"
   ]
  },
  {
   "cell_type": "code",
   "execution_count": 379,
   "metadata": {},
   "outputs": [
    {
     "data": {
      "text/html": [
       "<div>\n",
       "<style scoped>\n",
       "    .dataframe tbody tr th:only-of-type {\n",
       "        vertical-align: middle;\n",
       "    }\n",
       "\n",
       "    .dataframe tbody tr th {\n",
       "        vertical-align: top;\n",
       "    }\n",
       "\n",
       "    .dataframe thead th {\n",
       "        text-align: right;\n",
       "    }\n",
       "</style>\n",
       "<table border=\"1\" class=\"dataframe\">\n",
       "  <thead>\n",
       "    <tr style=\"text-align: right;\">\n",
       "      <th></th>\n",
       "      <th>price_x</th>\n",
       "      <th>neighbourhood</th>\n",
       "      <th>zipcode</th>\n",
       "      <th>property_type</th>\n",
       "      <th>room_type</th>\n",
       "      <th>accommodates</th>\n",
       "      <th>bathrooms</th>\n",
       "      <th>bedrooms</th>\n",
       "      <th>beds</th>\n",
       "      <th>bed_type</th>\n",
       "      <th>...</th>\n",
       "      <th>monthly_price</th>\n",
       "      <th>number_of_reviews</th>\n",
       "      <th>review_scores_rating</th>\n",
       "      <th>review_scores_accuracy</th>\n",
       "      <th>review_scores_cleanliness</th>\n",
       "      <th>review_scores_checkin</th>\n",
       "      <th>review_scores_communication</th>\n",
       "      <th>review_scores_location</th>\n",
       "      <th>review_scores_value</th>\n",
       "      <th>reviews_per_month</th>\n",
       "    </tr>\n",
       "  </thead>\n",
       "  <tbody>\n",
       "    <tr>\n",
       "      <th>3335</th>\n",
       "      <td>120.0</td>\n",
       "      <td>Dunlap</td>\n",
       "      <td>98118</td>\n",
       "      <td>NaN</td>\n",
       "      <td>Entire home/apt</td>\n",
       "      <td>4</td>\n",
       "      <td>1.0</td>\n",
       "      <td>2.0</td>\n",
       "      <td>2.0</td>\n",
       "      <td>Real Bed</td>\n",
       "      <td>...</td>\n",
       "      <td>$1,600.00</td>\n",
       "      <td>0</td>\n",
       "      <td>NaN</td>\n",
       "      <td>NaN</td>\n",
       "      <td>NaN</td>\n",
       "      <td>NaN</td>\n",
       "      <td>NaN</td>\n",
       "      <td>NaN</td>\n",
       "      <td>NaN</td>\n",
       "      <td>NaN</td>\n",
       "    </tr>\n",
       "    <tr>\n",
       "      <th>4291</th>\n",
       "      <td>82.0</td>\n",
       "      <td>Roosevelt</td>\n",
       "      <td>98115</td>\n",
       "      <td>House</td>\n",
       "      <td>Private room</td>\n",
       "      <td>2</td>\n",
       "      <td>1.0</td>\n",
       "      <td>1.0</td>\n",
       "      <td>1.0</td>\n",
       "      <td>Real Bed</td>\n",
       "      <td>...</td>\n",
       "      <td>$1,925.00</td>\n",
       "      <td>35</td>\n",
       "      <td>92.0</td>\n",
       "      <td>10.0</td>\n",
       "      <td>9.0</td>\n",
       "      <td>10.0</td>\n",
       "      <td>9.0</td>\n",
       "      <td>9.0</td>\n",
       "      <td>9.0</td>\n",
       "      <td>1.14</td>\n",
       "    </tr>\n",
       "    <tr>\n",
       "      <th>5682</th>\n",
       "      <td>53.0</td>\n",
       "      <td>South Delridge</td>\n",
       "      <td>98106</td>\n",
       "      <td>Apartment</td>\n",
       "      <td>Entire home/apt</td>\n",
       "      <td>2</td>\n",
       "      <td>1.0</td>\n",
       "      <td>1.0</td>\n",
       "      <td>1.0</td>\n",
       "      <td>Real Bed</td>\n",
       "      <td>...</td>\n",
       "      <td>$1,250.00</td>\n",
       "      <td>297</td>\n",
       "      <td>96.0</td>\n",
       "      <td>10.0</td>\n",
       "      <td>10.0</td>\n",
       "      <td>10.0</td>\n",
       "      <td>10.0</td>\n",
       "      <td>9.0</td>\n",
       "      <td>10.0</td>\n",
       "      <td>4.21</td>\n",
       "    </tr>\n",
       "    <tr>\n",
       "      <th>6606</th>\n",
       "      <td>90.0</td>\n",
       "      <td>Wallingford</td>\n",
       "      <td>98103</td>\n",
       "      <td>Apartment</td>\n",
       "      <td>Entire home/apt</td>\n",
       "      <td>2</td>\n",
       "      <td>1.0</td>\n",
       "      <td>1.0</td>\n",
       "      <td>1.0</td>\n",
       "      <td>Real Bed</td>\n",
       "      <td>...</td>\n",
       "      <td>NaN</td>\n",
       "      <td>52</td>\n",
       "      <td>93.0</td>\n",
       "      <td>9.0</td>\n",
       "      <td>9.0</td>\n",
       "      <td>10.0</td>\n",
       "      <td>9.0</td>\n",
       "      <td>10.0</td>\n",
       "      <td>9.0</td>\n",
       "      <td>0.66</td>\n",
       "    </tr>\n",
       "    <tr>\n",
       "      <th>7369</th>\n",
       "      <td>85.0</td>\n",
       "      <td>Broadway</td>\n",
       "      <td>98122</td>\n",
       "      <td>Condominium</td>\n",
       "      <td>Entire home/apt</td>\n",
       "      <td>2</td>\n",
       "      <td>1.0</td>\n",
       "      <td>1.0</td>\n",
       "      <td>1.0</td>\n",
       "      <td>Real Bed</td>\n",
       "      <td>...</td>\n",
       "      <td>NaN</td>\n",
       "      <td>40</td>\n",
       "      <td>94.0</td>\n",
       "      <td>10.0</td>\n",
       "      <td>10.0</td>\n",
       "      <td>10.0</td>\n",
       "      <td>10.0</td>\n",
       "      <td>10.0</td>\n",
       "      <td>9.0</td>\n",
       "      <td>0.50</td>\n",
       "    </tr>\n",
       "  </tbody>\n",
       "</table>\n",
       "<p>5 rows × 24 columns</p>\n",
       "</div>"
      ],
      "text/plain": [
       "      price_x   neighbourhood zipcode property_type        room_type  \\\n",
       "3335    120.0          Dunlap   98118           NaN  Entire home/apt   \n",
       "4291     82.0       Roosevelt   98115         House     Private room   \n",
       "5682     53.0  South Delridge   98106     Apartment  Entire home/apt   \n",
       "6606     90.0     Wallingford   98103     Apartment  Entire home/apt   \n",
       "7369     85.0        Broadway   98122   Condominium  Entire home/apt   \n",
       "\n",
       "      accommodates  bathrooms  bedrooms  beds  bed_type  ... monthly_price  \\\n",
       "3335             4        1.0       2.0   2.0  Real Bed  ...     $1,600.00   \n",
       "4291             2        1.0       1.0   1.0  Real Bed  ...     $1,925.00   \n",
       "5682             2        1.0       1.0   1.0  Real Bed  ...     $1,250.00   \n",
       "6606             2        1.0       1.0   1.0  Real Bed  ...           NaN   \n",
       "7369             2        1.0       1.0   1.0  Real Bed  ...           NaN   \n",
       "\n",
       "      number_of_reviews  review_scores_rating review_scores_accuracy  \\\n",
       "3335                  0                   NaN                    NaN   \n",
       "4291                 35                  92.0                   10.0   \n",
       "5682                297                  96.0                   10.0   \n",
       "6606                 52                  93.0                    9.0   \n",
       "7369                 40                  94.0                   10.0   \n",
       "\n",
       "     review_scores_cleanliness  review_scores_checkin  \\\n",
       "3335                       NaN                    NaN   \n",
       "4291                       9.0                   10.0   \n",
       "5682                      10.0                   10.0   \n",
       "6606                       9.0                   10.0   \n",
       "7369                      10.0                   10.0   \n",
       "\n",
       "      review_scores_communication  review_scores_location  \\\n",
       "3335                          NaN                     NaN   \n",
       "4291                          9.0                     9.0   \n",
       "5682                         10.0                     9.0   \n",
       "6606                          9.0                    10.0   \n",
       "7369                         10.0                    10.0   \n",
       "\n",
       "      review_scores_value  reviews_per_month  \n",
       "3335                  NaN                NaN  \n",
       "4291                  9.0               1.14  \n",
       "5682                 10.0               4.21  \n",
       "6606                  9.0               0.66  \n",
       "7369                  9.0               0.50  \n",
       "\n",
       "[5 rows x 24 columns]"
      ]
     },
     "execution_count": 379,
     "metadata": {},
     "output_type": "execute_result"
    }
   ],
   "source": [
    "merged_Seattle.head()"
   ]
  },
  {
   "cell_type": "code",
   "execution_count": 380,
   "metadata": {},
   "outputs": [
    {
     "data": {
      "text/plain": [
       "3335        120.0\n",
       "4291         82.0\n",
       "5682         48.0\n",
       "6606         90.0\n",
       "7369         85.0\n",
       "            ...  \n",
       "10331249     45.0\n",
       "10332096     40.0\n",
       "10334184    120.0\n",
       "10339145    219.0\n",
       "10340165     43.0\n",
       "Name: price_y, Length: 3723, dtype: float64"
      ]
     },
     "execution_count": 380,
     "metadata": {},
     "output_type": "execute_result"
    }
   ],
   "source": [
    "merged_Seattle.price_y"
   ]
  },
  {
   "cell_type": "code",
   "execution_count": 381,
   "metadata": {},
   "outputs": [
    {
     "data": {
      "text/html": [
       "<div>\n",
       "<style scoped>\n",
       "    .dataframe tbody tr th:only-of-type {\n",
       "        vertical-align: middle;\n",
       "    }\n",
       "\n",
       "    .dataframe tbody tr th {\n",
       "        vertical-align: top;\n",
       "    }\n",
       "\n",
       "    .dataframe thead th {\n",
       "        text-align: right;\n",
       "    }\n",
       "</style>\n",
       "<table border=\"1\" class=\"dataframe\">\n",
       "  <thead>\n",
       "    <tr style=\"text-align: right;\">\n",
       "      <th></th>\n",
       "      <th>price_x</th>\n",
       "      <th>neighbourhood</th>\n",
       "      <th>zipcode</th>\n",
       "      <th>property_type</th>\n",
       "      <th>room_type</th>\n",
       "      <th>accommodates</th>\n",
       "      <th>bathrooms</th>\n",
       "      <th>bedrooms</th>\n",
       "      <th>beds</th>\n",
       "      <th>bed_type</th>\n",
       "      <th>...</th>\n",
       "      <th>monthly_price</th>\n",
       "      <th>number_of_reviews</th>\n",
       "      <th>review_scores_rating</th>\n",
       "      <th>review_scores_accuracy</th>\n",
       "      <th>review_scores_cleanliness</th>\n",
       "      <th>review_scores_checkin</th>\n",
       "      <th>review_scores_communication</th>\n",
       "      <th>review_scores_location</th>\n",
       "      <th>review_scores_value</th>\n",
       "      <th>reviews_per_month</th>\n",
       "    </tr>\n",
       "  </thead>\n",
       "  <tbody>\n",
       "    <tr>\n",
       "      <th>3353</th>\n",
       "      <td>125.0</td>\n",
       "      <td>Allston-Brighton</td>\n",
       "      <td>02134</td>\n",
       "      <td>Apartment</td>\n",
       "      <td>Private room</td>\n",
       "      <td>1</td>\n",
       "      <td>1.0</td>\n",
       "      <td>1.0</td>\n",
       "      <td>1.0</td>\n",
       "      <td>Real Bed</td>\n",
       "      <td>...</td>\n",
       "      <td>$1,200.00</td>\n",
       "      <td>34</td>\n",
       "      <td>90.0</td>\n",
       "      <td>9.0</td>\n",
       "      <td>8.0</td>\n",
       "      <td>9.0</td>\n",
       "      <td>9.0</td>\n",
       "      <td>9.0</td>\n",
       "      <td>9.0</td>\n",
       "      <td>0.38</td>\n",
       "    </tr>\n",
       "    <tr>\n",
       "      <th>5506</th>\n",
       "      <td>50.0</td>\n",
       "      <td>Roxbury</td>\n",
       "      <td>02119</td>\n",
       "      <td>House</td>\n",
       "      <td>Private room</td>\n",
       "      <td>2</td>\n",
       "      <td>1.0</td>\n",
       "      <td>1.0</td>\n",
       "      <td>1.0</td>\n",
       "      <td>Real Bed</td>\n",
       "      <td>...</td>\n",
       "      <td>$3,000.00</td>\n",
       "      <td>36</td>\n",
       "      <td>91.0</td>\n",
       "      <td>9.0</td>\n",
       "      <td>10.0</td>\n",
       "      <td>10.0</td>\n",
       "      <td>10.0</td>\n",
       "      <td>9.0</td>\n",
       "      <td>10.0</td>\n",
       "      <td>0.40</td>\n",
       "    </tr>\n",
       "    <tr>\n",
       "      <th>6695</th>\n",
       "      <td>80.0</td>\n",
       "      <td>Roxbury</td>\n",
       "      <td>02119</td>\n",
       "      <td>Apartment</td>\n",
       "      <td>Entire home/apt</td>\n",
       "      <td>4</td>\n",
       "      <td>1.0</td>\n",
       "      <td>1.0</td>\n",
       "      <td>2.0</td>\n",
       "      <td>Real Bed</td>\n",
       "      <td>...</td>\n",
       "      <td>NaN</td>\n",
       "      <td>47</td>\n",
       "      <td>95.0</td>\n",
       "      <td>9.0</td>\n",
       "      <td>10.0</td>\n",
       "      <td>10.0</td>\n",
       "      <td>10.0</td>\n",
       "      <td>8.0</td>\n",
       "      <td>9.0</td>\n",
       "      <td>0.54</td>\n",
       "    </tr>\n",
       "    <tr>\n",
       "      <th>6976</th>\n",
       "      <td>1450.0</td>\n",
       "      <td>Roslindale</td>\n",
       "      <td>02131</td>\n",
       "      <td>Apartment</td>\n",
       "      <td>Private room</td>\n",
       "      <td>2</td>\n",
       "      <td>1.0</td>\n",
       "      <td>1.0</td>\n",
       "      <td>1.0</td>\n",
       "      <td>Real Bed</td>\n",
       "      <td>...</td>\n",
       "      <td>$1,350.00</td>\n",
       "      <td>41</td>\n",
       "      <td>98.0</td>\n",
       "      <td>10.0</td>\n",
       "      <td>9.0</td>\n",
       "      <td>10.0</td>\n",
       "      <td>10.0</td>\n",
       "      <td>9.0</td>\n",
       "      <td>10.0</td>\n",
       "      <td>0.47</td>\n",
       "    </tr>\n",
       "    <tr>\n",
       "      <th>8792</th>\n",
       "      <td>80.0</td>\n",
       "      <td>Beacon Hill</td>\n",
       "      <td>02108</td>\n",
       "      <td>Apartment</td>\n",
       "      <td>Entire home/apt</td>\n",
       "      <td>3</td>\n",
       "      <td>1.0</td>\n",
       "      <td>1.0</td>\n",
       "      <td>1.0</td>\n",
       "      <td>Real Bed</td>\n",
       "      <td>...</td>\n",
       "      <td>$2,900.00</td>\n",
       "      <td>18</td>\n",
       "      <td>91.0</td>\n",
       "      <td>10.0</td>\n",
       "      <td>9.0</td>\n",
       "      <td>10.0</td>\n",
       "      <td>9.0</td>\n",
       "      <td>10.0</td>\n",
       "      <td>10.0</td>\n",
       "      <td>0.21</td>\n",
       "    </tr>\n",
       "  </tbody>\n",
       "</table>\n",
       "<p>5 rows × 24 columns</p>\n",
       "</div>"
      ],
      "text/plain": [
       "      price_x     neighbourhood zipcode property_type        room_type  \\\n",
       "3353    125.0  Allston-Brighton   02134     Apartment     Private room   \n",
       "5506     50.0           Roxbury   02119         House     Private room   \n",
       "6695     80.0           Roxbury   02119     Apartment  Entire home/apt   \n",
       "6976   1450.0        Roslindale   02131     Apartment     Private room   \n",
       "8792     80.0       Beacon Hill   02108     Apartment  Entire home/apt   \n",
       "\n",
       "      accommodates  bathrooms  bedrooms  beds  bed_type  ... monthly_price  \\\n",
       "3353             1        1.0       1.0   1.0  Real Bed  ...     $1,200.00   \n",
       "5506             2        1.0       1.0   1.0  Real Bed  ...     $3,000.00   \n",
       "6695             4        1.0       1.0   2.0  Real Bed  ...           NaN   \n",
       "6976             2        1.0       1.0   1.0  Real Bed  ...     $1,350.00   \n",
       "8792             3        1.0       1.0   1.0  Real Bed  ...     $2,900.00   \n",
       "\n",
       "      number_of_reviews  review_scores_rating review_scores_accuracy  \\\n",
       "3353                 34                  90.0                    9.0   \n",
       "5506                 36                  91.0                    9.0   \n",
       "6695                 47                  95.0                    9.0   \n",
       "6976                 41                  98.0                   10.0   \n",
       "8792                 18                  91.0                   10.0   \n",
       "\n",
       "     review_scores_cleanliness  review_scores_checkin  \\\n",
       "3353                       8.0                    9.0   \n",
       "5506                      10.0                   10.0   \n",
       "6695                      10.0                   10.0   \n",
       "6976                       9.0                   10.0   \n",
       "8792                       9.0                   10.0   \n",
       "\n",
       "      review_scores_communication  review_scores_location  \\\n",
       "3353                          9.0                     9.0   \n",
       "5506                         10.0                     9.0   \n",
       "6695                         10.0                     8.0   \n",
       "6976                         10.0                     9.0   \n",
       "8792                          9.0                    10.0   \n",
       "\n",
       "      review_scores_value  reviews_per_month  \n",
       "3353                  9.0               0.38  \n",
       "5506                 10.0               0.40  \n",
       "6695                  9.0               0.54  \n",
       "6976                 10.0               0.47  \n",
       "8792                 10.0               0.21  \n",
       "\n",
       "[5 rows x 24 columns]"
      ]
     },
     "execution_count": 381,
     "metadata": {},
     "output_type": "execute_result"
    }
   ],
   "source": [
    "merged_Boston.head()"
   ]
  },
  {
   "cell_type": "code",
   "execution_count": 382,
   "metadata": {},
   "outputs": [
    {
     "data": {
      "text/plain": [
       "Index(['price_x', 'neighbourhood', 'zipcode', 'property_type', 'room_type',\n",
       "       'accommodates', 'bathrooms', 'bedrooms', 'beds', 'bed_type',\n",
       "       'amenities', 'square_feet', 'price_y', 'weekly_price', 'monthly_price',\n",
       "       'number_of_reviews', 'review_scores_rating', 'review_scores_accuracy',\n",
       "       'review_scores_cleanliness', 'review_scores_checkin',\n",
       "       'review_scores_communication', 'review_scores_location',\n",
       "       'review_scores_value', 'reviews_per_month'],\n",
       "      dtype='object')"
      ]
     },
     "execution_count": 382,
     "metadata": {},
     "output_type": "execute_result"
    }
   ],
   "source": [
    "merged_Seattle.columns"
   ]
  },
  {
   "cell_type": "code",
   "execution_count": 383,
   "metadata": {},
   "outputs": [],
   "source": [
    "# Drop the extra price columns as they are not needed for this analysis (They are similar to the calender price)\n",
    "Seattle_drop = merged_Seattle.drop(columns=['weekly_price','monthly_price', 'price_y','zipcode' ])\n",
    "Boston_drop = merged_Boston.drop(columns=['weekly_price','monthly_price'])"
   ]
  },
  {
   "cell_type": "code",
   "execution_count": 384,
   "metadata": {},
   "outputs": [
    {
     "data": {
      "text/plain": [
       "Index(['price_x', 'neighbourhood', 'property_type', 'room_type',\n",
       "       'accommodates', 'bathrooms', 'bedrooms', 'beds', 'bed_type',\n",
       "       'amenities', 'square_feet', 'number_of_reviews', 'review_scores_rating',\n",
       "       'review_scores_accuracy', 'review_scores_cleanliness',\n",
       "       'review_scores_checkin', 'review_scores_communication',\n",
       "       'review_scores_location', 'review_scores_value', 'reviews_per_month'],\n",
       "      dtype='object')"
      ]
     },
     "execution_count": 384,
     "metadata": {},
     "output_type": "execute_result"
    }
   ],
   "source": [
    "Seattle_drop.columns"
   ]
  },
  {
   "cell_type": "code",
   "execution_count": 385,
   "metadata": {},
   "outputs": [
    {
     "data": {
      "text/plain": [
       "price_x                        float64\n",
       "neighbourhood                   object\n",
       "property_type                   object\n",
       "room_type                       object\n",
       "accommodates                     int64\n",
       "bathrooms                      float64\n",
       "bedrooms                       float64\n",
       "beds                           float64\n",
       "bed_type                        object\n",
       "amenities                       object\n",
       "square_feet                    float64\n",
       "number_of_reviews                int64\n",
       "review_scores_rating           float64\n",
       "review_scores_accuracy         float64\n",
       "review_scores_cleanliness      float64\n",
       "review_scores_checkin          float64\n",
       "review_scores_communication    float64\n",
       "review_scores_location         float64\n",
       "review_scores_value            float64\n",
       "reviews_per_month              float64\n",
       "dtype: object"
      ]
     },
     "execution_count": 385,
     "metadata": {},
     "output_type": "execute_result"
    }
   ],
   "source": [
    "# Check datatypes to see catagorical variables\n",
    "Seattle_drop.dtypes"
   ]
  },
  {
   "cell_type": "code",
   "execution_count": 386,
   "metadata": {},
   "outputs": [
    {
     "data": {
      "text/plain": [
       "price_x                         0.000000\n",
       "neighbourhood                  10.958904\n",
       "property_type                   0.026860\n",
       "room_type                       0.000000\n",
       "accommodates                    0.000000\n",
       "bathrooms                       0.429761\n",
       "bedrooms                        0.161160\n",
       "beds                            0.026860\n",
       "bed_type                        0.000000\n",
       "amenities                       0.000000\n",
       "square_feet                    97.448294\n",
       "number_of_reviews               0.000000\n",
       "review_scores_rating           16.706957\n",
       "review_scores_accuracy         17.002417\n",
       "review_scores_cleanliness      16.868117\n",
       "review_scores_checkin          17.002417\n",
       "review_scores_communication    16.814397\n",
       "review_scores_location         16.921837\n",
       "review_scores_value            16.948697\n",
       "reviews_per_month              16.169756\n",
       "dtype: float64"
      ]
     },
     "execution_count": 386,
     "metadata": {},
     "output_type": "execute_result"
    }
   ],
   "source": [
    "pd.isnull(Seattle_drop).sum()/len(Seattle_drop)*100"
   ]
  },
  {
   "cell_type": "code",
   "execution_count": 387,
   "metadata": {},
   "outputs": [
    {
     "data": {
      "text/plain": [
       "5"
      ]
     },
     "execution_count": 387,
     "metadata": {},
     "output_type": "execute_result"
    }
   ],
   "source": [
    "Seattle_drop.select_dtypes('object').shape[1]"
   ]
  },
  {
   "cell_type": "code",
   "execution_count": 388,
   "metadata": {},
   "outputs": [
    {
     "data": {
      "text/plain": [
       "15"
      ]
     },
     "execution_count": 388,
     "metadata": {},
     "output_type": "execute_result"
    }
   ],
   "source": [
    "Seattle_drop.select_dtypes(['float64','int64']).shape[1]"
   ]
  },
  {
   "cell_type": "code",
   "execution_count": 389,
   "metadata": {},
   "outputs": [
    {
     "data": {
      "text/html": [
       "<div>\n",
       "<style scoped>\n",
       "    .dataframe tbody tr th:only-of-type {\n",
       "        vertical-align: middle;\n",
       "    }\n",
       "\n",
       "    .dataframe tbody tr th {\n",
       "        vertical-align: top;\n",
       "    }\n",
       "\n",
       "    .dataframe thead th {\n",
       "        text-align: right;\n",
       "    }\n",
       "</style>\n",
       "<table border=\"1\" class=\"dataframe\">\n",
       "  <thead>\n",
       "    <tr style=\"text-align: right;\">\n",
       "      <th></th>\n",
       "      <th>price_x</th>\n",
       "      <th>accommodates</th>\n",
       "      <th>bathrooms</th>\n",
       "      <th>bedrooms</th>\n",
       "      <th>beds</th>\n",
       "      <th>square_feet</th>\n",
       "      <th>number_of_reviews</th>\n",
       "      <th>review_scores_rating</th>\n",
       "      <th>review_scores_accuracy</th>\n",
       "      <th>review_scores_cleanliness</th>\n",
       "      <th>review_scores_checkin</th>\n",
       "      <th>review_scores_communication</th>\n",
       "      <th>review_scores_location</th>\n",
       "      <th>review_scores_value</th>\n",
       "      <th>reviews_per_month</th>\n",
       "    </tr>\n",
       "  </thead>\n",
       "  <tbody>\n",
       "    <tr>\n",
       "      <th>3335</th>\n",
       "      <td>120.0</td>\n",
       "      <td>4</td>\n",
       "      <td>1.0</td>\n",
       "      <td>2.0</td>\n",
       "      <td>2.0</td>\n",
       "      <td>NaN</td>\n",
       "      <td>0</td>\n",
       "      <td>NaN</td>\n",
       "      <td>NaN</td>\n",
       "      <td>NaN</td>\n",
       "      <td>NaN</td>\n",
       "      <td>NaN</td>\n",
       "      <td>NaN</td>\n",
       "      <td>NaN</td>\n",
       "      <td>NaN</td>\n",
       "    </tr>\n",
       "    <tr>\n",
       "      <th>4291</th>\n",
       "      <td>82.0</td>\n",
       "      <td>2</td>\n",
       "      <td>1.0</td>\n",
       "      <td>1.0</td>\n",
       "      <td>1.0</td>\n",
       "      <td>NaN</td>\n",
       "      <td>35</td>\n",
       "      <td>92.0</td>\n",
       "      <td>10.0</td>\n",
       "      <td>9.0</td>\n",
       "      <td>10.0</td>\n",
       "      <td>9.0</td>\n",
       "      <td>9.0</td>\n",
       "      <td>9.0</td>\n",
       "      <td>1.14</td>\n",
       "    </tr>\n",
       "    <tr>\n",
       "      <th>5682</th>\n",
       "      <td>53.0</td>\n",
       "      <td>2</td>\n",
       "      <td>1.0</td>\n",
       "      <td>1.0</td>\n",
       "      <td>1.0</td>\n",
       "      <td>NaN</td>\n",
       "      <td>297</td>\n",
       "      <td>96.0</td>\n",
       "      <td>10.0</td>\n",
       "      <td>10.0</td>\n",
       "      <td>10.0</td>\n",
       "      <td>10.0</td>\n",
       "      <td>9.0</td>\n",
       "      <td>10.0</td>\n",
       "      <td>4.21</td>\n",
       "    </tr>\n",
       "    <tr>\n",
       "      <th>6606</th>\n",
       "      <td>90.0</td>\n",
       "      <td>2</td>\n",
       "      <td>1.0</td>\n",
       "      <td>1.0</td>\n",
       "      <td>1.0</td>\n",
       "      <td>NaN</td>\n",
       "      <td>52</td>\n",
       "      <td>93.0</td>\n",
       "      <td>9.0</td>\n",
       "      <td>9.0</td>\n",
       "      <td>10.0</td>\n",
       "      <td>9.0</td>\n",
       "      <td>10.0</td>\n",
       "      <td>9.0</td>\n",
       "      <td>0.66</td>\n",
       "    </tr>\n",
       "    <tr>\n",
       "      <th>7369</th>\n",
       "      <td>85.0</td>\n",
       "      <td>2</td>\n",
       "      <td>1.0</td>\n",
       "      <td>1.0</td>\n",
       "      <td>1.0</td>\n",
       "      <td>800.0</td>\n",
       "      <td>40</td>\n",
       "      <td>94.0</td>\n",
       "      <td>10.0</td>\n",
       "      <td>10.0</td>\n",
       "      <td>10.0</td>\n",
       "      <td>10.0</td>\n",
       "      <td>10.0</td>\n",
       "      <td>9.0</td>\n",
       "      <td>0.50</td>\n",
       "    </tr>\n",
       "    <tr>\n",
       "      <th>...</th>\n",
       "      <td>...</td>\n",
       "      <td>...</td>\n",
       "      <td>...</td>\n",
       "      <td>...</td>\n",
       "      <td>...</td>\n",
       "      <td>...</td>\n",
       "      <td>...</td>\n",
       "      <td>...</td>\n",
       "      <td>...</td>\n",
       "      <td>...</td>\n",
       "      <td>...</td>\n",
       "      <td>...</td>\n",
       "      <td>...</td>\n",
       "      <td>...</td>\n",
       "      <td>...</td>\n",
       "    </tr>\n",
       "    <tr>\n",
       "      <th>10331249</th>\n",
       "      <td>45.0</td>\n",
       "      <td>1</td>\n",
       "      <td>1.0</td>\n",
       "      <td>1.0</td>\n",
       "      <td>1.0</td>\n",
       "      <td>NaN</td>\n",
       "      <td>0</td>\n",
       "      <td>NaN</td>\n",
       "      <td>NaN</td>\n",
       "      <td>NaN</td>\n",
       "      <td>NaN</td>\n",
       "      <td>NaN</td>\n",
       "      <td>NaN</td>\n",
       "      <td>NaN</td>\n",
       "      <td>NaN</td>\n",
       "    </tr>\n",
       "    <tr>\n",
       "      <th>10332096</th>\n",
       "      <td>40.0</td>\n",
       "      <td>2</td>\n",
       "      <td>1.0</td>\n",
       "      <td>1.0</td>\n",
       "      <td>1.0</td>\n",
       "      <td>NaN</td>\n",
       "      <td>0</td>\n",
       "      <td>NaN</td>\n",
       "      <td>NaN</td>\n",
       "      <td>NaN</td>\n",
       "      <td>NaN</td>\n",
       "      <td>NaN</td>\n",
       "      <td>NaN</td>\n",
       "      <td>NaN</td>\n",
       "      <td>NaN</td>\n",
       "    </tr>\n",
       "    <tr>\n",
       "      <th>10334184</th>\n",
       "      <td>120.0</td>\n",
       "      <td>2</td>\n",
       "      <td>1.0</td>\n",
       "      <td>1.0</td>\n",
       "      <td>1.0</td>\n",
       "      <td>NaN</td>\n",
       "      <td>0</td>\n",
       "      <td>NaN</td>\n",
       "      <td>NaN</td>\n",
       "      <td>NaN</td>\n",
       "      <td>NaN</td>\n",
       "      <td>NaN</td>\n",
       "      <td>NaN</td>\n",
       "      <td>NaN</td>\n",
       "      <td>NaN</td>\n",
       "    </tr>\n",
       "    <tr>\n",
       "      <th>10339145</th>\n",
       "      <td>219.0</td>\n",
       "      <td>5</td>\n",
       "      <td>2.0</td>\n",
       "      <td>2.0</td>\n",
       "      <td>2.0</td>\n",
       "      <td>NaN</td>\n",
       "      <td>0</td>\n",
       "      <td>NaN</td>\n",
       "      <td>NaN</td>\n",
       "      <td>NaN</td>\n",
       "      <td>NaN</td>\n",
       "      <td>NaN</td>\n",
       "      <td>NaN</td>\n",
       "      <td>NaN</td>\n",
       "      <td>NaN</td>\n",
       "    </tr>\n",
       "    <tr>\n",
       "      <th>10340165</th>\n",
       "      <td>43.0</td>\n",
       "      <td>2</td>\n",
       "      <td>1.0</td>\n",
       "      <td>1.0</td>\n",
       "      <td>2.0</td>\n",
       "      <td>NaN</td>\n",
       "      <td>0</td>\n",
       "      <td>NaN</td>\n",
       "      <td>NaN</td>\n",
       "      <td>NaN</td>\n",
       "      <td>NaN</td>\n",
       "      <td>NaN</td>\n",
       "      <td>NaN</td>\n",
       "      <td>NaN</td>\n",
       "      <td>NaN</td>\n",
       "    </tr>\n",
       "  </tbody>\n",
       "</table>\n",
       "<p>3723 rows × 15 columns</p>\n",
       "</div>"
      ],
      "text/plain": [
       "          price_x  accommodates  bathrooms  bedrooms  beds  square_feet  \\\n",
       "3335        120.0             4        1.0       2.0   2.0          NaN   \n",
       "4291         82.0             2        1.0       1.0   1.0          NaN   \n",
       "5682         53.0             2        1.0       1.0   1.0          NaN   \n",
       "6606         90.0             2        1.0       1.0   1.0          NaN   \n",
       "7369         85.0             2        1.0       1.0   1.0        800.0   \n",
       "...           ...           ...        ...       ...   ...          ...   \n",
       "10331249     45.0             1        1.0       1.0   1.0          NaN   \n",
       "10332096     40.0             2        1.0       1.0   1.0          NaN   \n",
       "10334184    120.0             2        1.0       1.0   1.0          NaN   \n",
       "10339145    219.0             5        2.0       2.0   2.0          NaN   \n",
       "10340165     43.0             2        1.0       1.0   2.0          NaN   \n",
       "\n",
       "          number_of_reviews  review_scores_rating  review_scores_accuracy  \\\n",
       "3335                      0                   NaN                     NaN   \n",
       "4291                     35                  92.0                    10.0   \n",
       "5682                    297                  96.0                    10.0   \n",
       "6606                     52                  93.0                     9.0   \n",
       "7369                     40                  94.0                    10.0   \n",
       "...                     ...                   ...                     ...   \n",
       "10331249                  0                   NaN                     NaN   \n",
       "10332096                  0                   NaN                     NaN   \n",
       "10334184                  0                   NaN                     NaN   \n",
       "10339145                  0                   NaN                     NaN   \n",
       "10340165                  0                   NaN                     NaN   \n",
       "\n",
       "          review_scores_cleanliness  review_scores_checkin  \\\n",
       "3335                            NaN                    NaN   \n",
       "4291                            9.0                   10.0   \n",
       "5682                           10.0                   10.0   \n",
       "6606                            9.0                   10.0   \n",
       "7369                           10.0                   10.0   \n",
       "...                             ...                    ...   \n",
       "10331249                        NaN                    NaN   \n",
       "10332096                        NaN                    NaN   \n",
       "10334184                        NaN                    NaN   \n",
       "10339145                        NaN                    NaN   \n",
       "10340165                        NaN                    NaN   \n",
       "\n",
       "          review_scores_communication  review_scores_location  \\\n",
       "3335                              NaN                     NaN   \n",
       "4291                              9.0                     9.0   \n",
       "5682                             10.0                     9.0   \n",
       "6606                              9.0                    10.0   \n",
       "7369                             10.0                    10.0   \n",
       "...                               ...                     ...   \n",
       "10331249                          NaN                     NaN   \n",
       "10332096                          NaN                     NaN   \n",
       "10334184                          NaN                     NaN   \n",
       "10339145                          NaN                     NaN   \n",
       "10340165                          NaN                     NaN   \n",
       "\n",
       "          review_scores_value  reviews_per_month  \n",
       "3335                      NaN                NaN  \n",
       "4291                      9.0               1.14  \n",
       "5682                     10.0               4.21  \n",
       "6606                      9.0               0.66  \n",
       "7369                      9.0               0.50  \n",
       "...                       ...                ...  \n",
       "10331249                  NaN                NaN  \n",
       "10332096                  NaN                NaN  \n",
       "10334184                  NaN                NaN  \n",
       "10339145                  NaN                NaN  \n",
       "10340165                  NaN                NaN  \n",
       "\n",
       "[3723 rows x 15 columns]"
      ]
     },
     "execution_count": 389,
     "metadata": {},
     "output_type": "execute_result"
    }
   ],
   "source": [
    "#show only all columns except object\n",
    "Seattle_drop.select_dtypes(exclude='object')\n"
   ]
  },
  {
   "cell_type": "code",
   "execution_count": 390,
   "metadata": {},
   "outputs": [],
   "source": [
    "# Replace Numerical Catagorical Variables with mode\n",
    "numeric_cata = ['review_scores_rating','accommodates',\n",
    "                    'bathrooms','bedrooms','beds',\n",
    "                    'review_scores_accuracy','review_scores_cleanliness',\n",
    "                    'review_scores_checkin','review_scores_communication',\n",
    "                    'review_scores_location','review_scores_value']\n",
    "Seattle_drop[numeric_cata] = Seattle_drop[numeric_cata].fillna(Seattle_drop.mode().iloc[0])\n",
    "                                                               \n",
    "# Replace reviews with the average rounded as they are the only other numerical columns with missing values\n",
    "reviews_data = ['reviews_per_month']\n",
    "Seattle_drop['reviews_per_month'] = Seattle_drop['reviews_per_month'].fillna(Seattle_drop['reviews_per_month'].median())"
   ]
  },
  {
   "cell_type": "code",
   "execution_count": 391,
   "metadata": {},
   "outputs": [
    {
     "data": {
      "text/html": [
       "<div>\n",
       "<style scoped>\n",
       "    .dataframe tbody tr th:only-of-type {\n",
       "        vertical-align: middle;\n",
       "    }\n",
       "\n",
       "    .dataframe tbody tr th {\n",
       "        vertical-align: top;\n",
       "    }\n",
       "\n",
       "    .dataframe thead th {\n",
       "        text-align: right;\n",
       "    }\n",
       "</style>\n",
       "<table border=\"1\" class=\"dataframe\">\n",
       "  <thead>\n",
       "    <tr style=\"text-align: right;\">\n",
       "      <th></th>\n",
       "      <th>neighbourhood</th>\n",
       "      <th>property_type</th>\n",
       "      <th>room_type</th>\n",
       "      <th>bed_type</th>\n",
       "      <th>amenities</th>\n",
       "    </tr>\n",
       "  </thead>\n",
       "  <tbody>\n",
       "    <tr>\n",
       "      <th>3335</th>\n",
       "      <td>Dunlap</td>\n",
       "      <td>NaN</td>\n",
       "      <td>Entire home/apt</td>\n",
       "      <td>Real Bed</td>\n",
       "      <td>{\"Wireless Internet\",Kitchen,\"Free Parking on ...</td>\n",
       "    </tr>\n",
       "    <tr>\n",
       "      <th>4291</th>\n",
       "      <td>Roosevelt</td>\n",
       "      <td>House</td>\n",
       "      <td>Private room</td>\n",
       "      <td>Real Bed</td>\n",
       "      <td>{TV,\"Cable TV\",Internet,\"Wireless Internet\",\"F...</td>\n",
       "    </tr>\n",
       "    <tr>\n",
       "      <th>5682</th>\n",
       "      <td>South Delridge</td>\n",
       "      <td>Apartment</td>\n",
       "      <td>Entire home/apt</td>\n",
       "      <td>Real Bed</td>\n",
       "      <td>{TV,Internet,\"Wireless Internet\",Kitchen,Heati...</td>\n",
       "    </tr>\n",
       "    <tr>\n",
       "      <th>6606</th>\n",
       "      <td>Wallingford</td>\n",
       "      <td>Apartment</td>\n",
       "      <td>Entire home/apt</td>\n",
       "      <td>Real Bed</td>\n",
       "      <td>{TV,\"Cable TV\",Internet,\"Wireless Internet\",Ki...</td>\n",
       "    </tr>\n",
       "    <tr>\n",
       "      <th>7369</th>\n",
       "      <td>Broadway</td>\n",
       "      <td>Condominium</td>\n",
       "      <td>Entire home/apt</td>\n",
       "      <td>Real Bed</td>\n",
       "      <td>{TV,\"Wireless Internet\",Kitchen,\"Elevator in B...</td>\n",
       "    </tr>\n",
       "    <tr>\n",
       "      <th>...</th>\n",
       "      <td>...</td>\n",
       "      <td>...</td>\n",
       "      <td>...</td>\n",
       "      <td>...</td>\n",
       "      <td>...</td>\n",
       "    </tr>\n",
       "    <tr>\n",
       "      <th>10331249</th>\n",
       "      <td>NaN</td>\n",
       "      <td>House</td>\n",
       "      <td>Private room</td>\n",
       "      <td>Real Bed</td>\n",
       "      <td>{Internet,\"Wireless Internet\",\"Pets live on th...</td>\n",
       "    </tr>\n",
       "    <tr>\n",
       "      <th>10332096</th>\n",
       "      <td>Olympic Hills</td>\n",
       "      <td>House</td>\n",
       "      <td>Private room</td>\n",
       "      <td>Real Bed</td>\n",
       "      <td>{TV,\"Wireless Internet\",Kitchen,\"Free Parking ...</td>\n",
       "    </tr>\n",
       "    <tr>\n",
       "      <th>10334184</th>\n",
       "      <td>Capitol Hill</td>\n",
       "      <td>Apartment</td>\n",
       "      <td>Entire home/apt</td>\n",
       "      <td>Real Bed</td>\n",
       "      <td>{TV,Internet,\"Wireless Internet\",Kitchen,\"Free...</td>\n",
       "    </tr>\n",
       "    <tr>\n",
       "      <th>10339145</th>\n",
       "      <td>Alki</td>\n",
       "      <td>Apartment</td>\n",
       "      <td>Entire home/apt</td>\n",
       "      <td>Real Bed</td>\n",
       "      <td>{TV,\"Cable TV\",Internet,\"Wireless Internet\",Ki...</td>\n",
       "    </tr>\n",
       "    <tr>\n",
       "      <th>10340165</th>\n",
       "      <td>Greenwood</td>\n",
       "      <td>House</td>\n",
       "      <td>Private room</td>\n",
       "      <td>Real Bed</td>\n",
       "      <td>{Internet,\"Wireless Internet\",Kitchen,\"Free Pa...</td>\n",
       "    </tr>\n",
       "  </tbody>\n",
       "</table>\n",
       "<p>3723 rows × 5 columns</p>\n",
       "</div>"
      ],
      "text/plain": [
       "           neighbourhood property_type        room_type  bed_type  \\\n",
       "3335              Dunlap           NaN  Entire home/apt  Real Bed   \n",
       "4291           Roosevelt         House     Private room  Real Bed   \n",
       "5682      South Delridge     Apartment  Entire home/apt  Real Bed   \n",
       "6606         Wallingford     Apartment  Entire home/apt  Real Bed   \n",
       "7369            Broadway   Condominium  Entire home/apt  Real Bed   \n",
       "...                  ...           ...              ...       ...   \n",
       "10331249             NaN         House     Private room  Real Bed   \n",
       "10332096   Olympic Hills         House     Private room  Real Bed   \n",
       "10334184    Capitol Hill     Apartment  Entire home/apt  Real Bed   \n",
       "10339145            Alki     Apartment  Entire home/apt  Real Bed   \n",
       "10340165       Greenwood         House     Private room  Real Bed   \n",
       "\n",
       "                                                  amenities  \n",
       "3335      {\"Wireless Internet\",Kitchen,\"Free Parking on ...  \n",
       "4291      {TV,\"Cable TV\",Internet,\"Wireless Internet\",\"F...  \n",
       "5682      {TV,Internet,\"Wireless Internet\",Kitchen,Heati...  \n",
       "6606      {TV,\"Cable TV\",Internet,\"Wireless Internet\",Ki...  \n",
       "7369      {TV,\"Wireless Internet\",Kitchen,\"Elevator in B...  \n",
       "...                                                     ...  \n",
       "10331249  {Internet,\"Wireless Internet\",\"Pets live on th...  \n",
       "10332096  {TV,\"Wireless Internet\",Kitchen,\"Free Parking ...  \n",
       "10334184  {TV,Internet,\"Wireless Internet\",Kitchen,\"Free...  \n",
       "10339145  {TV,\"Cable TV\",Internet,\"Wireless Internet\",Ki...  \n",
       "10340165  {Internet,\"Wireless Internet\",Kitchen,\"Free Pa...  \n",
       "\n",
       "[3723 rows x 5 columns]"
      ]
     },
     "execution_count": 391,
     "metadata": {},
     "output_type": "execute_result"
    }
   ],
   "source": [
    "Seattle_drop.select_dtypes(include='object')"
   ]
  },
  {
   "cell_type": "code",
   "execution_count": 392,
   "metadata": {},
   "outputs": [
    {
     "data": {
      "text/plain": [
       "price_x                        0.0\n",
       "property_type                  0.0\n",
       "room_type                      0.0\n",
       "accommodates                   0.0\n",
       "bathrooms                      0.0\n",
       "bedrooms                       0.0\n",
       "beds                           0.0\n",
       "bed_type                       0.0\n",
       "amenities                      0.0\n",
       "square_feet                    0.0\n",
       "number_of_reviews              0.0\n",
       "review_scores_rating           0.0\n",
       "review_scores_accuracy         0.0\n",
       "review_scores_cleanliness      0.0\n",
       "review_scores_checkin          0.0\n",
       "review_scores_communication    0.0\n",
       "review_scores_location         0.0\n",
       "review_scores_value            0.0\n",
       "reviews_per_month              0.0\n",
       "dtype: float64"
      ]
     },
     "execution_count": 392,
     "metadata": {},
     "output_type": "execute_result"
    }
   ],
   "source": [
    "import re\n",
    "# Drop the NaN's and unwanted columns\n",
    "Seattle_drop = Seattle_drop.drop(columns=['neighbourhood'])\n",
    "Seattle_drop = Seattle_drop.dropna()\n",
    "\n",
    "# Some processing needs to be used to edit bad zipcodes\n",
    "#Seattle_drop['zipcode'] = [re.sub(r'\\b(\\d{1,4}|\\d{6,}|\\D)\\b','',x)[0:5] for x in Seattle_drop['zipcode']]\n",
    "#make sure there is no null \n",
    "pd.isnull(Seattle_drop).sum()/len(Seattle_drop)*100"
   ]
  },
  {
   "cell_type": "code",
   "execution_count": 393,
   "metadata": {},
   "outputs": [],
   "source": [
    "# Turn the amenities data into a list of amenities\n",
    "Seattle_drop['amenities'] = [x.replace('{','').replace('}','').replace('\"','').split(',') for x in Seattle_drop['amenities']]"
   ]
  },
  {
   "cell_type": "code",
   "execution_count": 394,
   "metadata": {},
   "outputs": [
    {
     "data": {
      "text/plain": [
       "7369       [TV, Wireless Internet, Kitchen, Elevator in B...\n",
       "9419       [Internet, Wireless Internet, Air Conditioning...\n",
       "9531       [TV, Cable TV, Internet, Wireless Internet, Wh...\n",
       "13068      [TV, Cable TV, Internet, Wireless Internet, Ai...\n",
       "15108      [Internet, Wireless Internet, Kitchen, Pets li...\n",
       "                                 ...                        \n",
       "2197982    [TV, Cable TV, Internet, Wireless Internet, Ki...\n",
       "2203983    [TV, Wireless Internet, Kitchen, Free Parking ...\n",
       "2267088    [TV, Internet, Wireless Internet, Kitchen, Fre...\n",
       "2309250    [TV, Cable TV, Internet, Wireless Internet, Ki...\n",
       "8673979    [Internet, Wireless Internet, Air Conditioning...\n",
       "Name: amenities, Length: 95, dtype: object"
      ]
     },
     "execution_count": 394,
     "metadata": {},
     "output_type": "execute_result"
    }
   ],
   "source": [
    "Seattle_drop['amenities']"
   ]
  },
  {
   "cell_type": "code",
   "execution_count": 395,
   "metadata": {},
   "outputs": [
    {
     "data": {
      "text/html": [
       "<div>\n",
       "<style scoped>\n",
       "    .dataframe tbody tr th:only-of-type {\n",
       "        vertical-align: middle;\n",
       "    }\n",
       "\n",
       "    .dataframe tbody tr th {\n",
       "        vertical-align: top;\n",
       "    }\n",
       "\n",
       "    .dataframe thead th {\n",
       "        text-align: right;\n",
       "    }\n",
       "</style>\n",
       "<table border=\"1\" class=\"dataframe\">\n",
       "  <thead>\n",
       "    <tr style=\"text-align: right;\">\n",
       "      <th></th>\n",
       "      <th>24-Hour Check-in</th>\n",
       "      <th>Air Conditioning</th>\n",
       "      <th>Breakfast</th>\n",
       "      <th>Buzzer/Wireless Intercom</th>\n",
       "      <th>Cable TV</th>\n",
       "      <th>Carbon Monoxide Detector</th>\n",
       "      <th>Cat(s)</th>\n",
       "      <th>Dog(s)</th>\n",
       "      <th>Doorman</th>\n",
       "      <th>Dryer</th>\n",
       "      <th>...</th>\n",
       "      <th>Safety Card</th>\n",
       "      <th>Shampoo</th>\n",
       "      <th>Smoke Detector</th>\n",
       "      <th>Smoking Allowed</th>\n",
       "      <th>Suitable for Events</th>\n",
       "      <th>TV</th>\n",
       "      <th>Washer</th>\n",
       "      <th>Washer / Dryer</th>\n",
       "      <th>Wheelchair Accessible</th>\n",
       "      <th>Wireless Internet</th>\n",
       "    </tr>\n",
       "  </thead>\n",
       "  <tbody>\n",
       "    <tr>\n",
       "      <th>7369</th>\n",
       "      <td>0</td>\n",
       "      <td>0</td>\n",
       "      <td>0</td>\n",
       "      <td>0</td>\n",
       "      <td>0</td>\n",
       "      <td>0</td>\n",
       "      <td>0</td>\n",
       "      <td>0</td>\n",
       "      <td>0</td>\n",
       "      <td>1</td>\n",
       "      <td>...</td>\n",
       "      <td>0</td>\n",
       "      <td>1</td>\n",
       "      <td>1</td>\n",
       "      <td>0</td>\n",
       "      <td>0</td>\n",
       "      <td>1</td>\n",
       "      <td>1</td>\n",
       "      <td>0</td>\n",
       "      <td>0</td>\n",
       "      <td>1</td>\n",
       "    </tr>\n",
       "    <tr>\n",
       "      <th>9419</th>\n",
       "      <td>0</td>\n",
       "      <td>1</td>\n",
       "      <td>0</td>\n",
       "      <td>0</td>\n",
       "      <td>0</td>\n",
       "      <td>0</td>\n",
       "      <td>0</td>\n",
       "      <td>1</td>\n",
       "      <td>0</td>\n",
       "      <td>0</td>\n",
       "      <td>...</td>\n",
       "      <td>0</td>\n",
       "      <td>1</td>\n",
       "      <td>1</td>\n",
       "      <td>0</td>\n",
       "      <td>0</td>\n",
       "      <td>0</td>\n",
       "      <td>0</td>\n",
       "      <td>0</td>\n",
       "      <td>0</td>\n",
       "      <td>1</td>\n",
       "    </tr>\n",
       "    <tr>\n",
       "      <th>9531</th>\n",
       "      <td>0</td>\n",
       "      <td>0</td>\n",
       "      <td>0</td>\n",
       "      <td>0</td>\n",
       "      <td>1</td>\n",
       "      <td>1</td>\n",
       "      <td>0</td>\n",
       "      <td>0</td>\n",
       "      <td>0</td>\n",
       "      <td>1</td>\n",
       "      <td>...</td>\n",
       "      <td>1</td>\n",
       "      <td>1</td>\n",
       "      <td>1</td>\n",
       "      <td>0</td>\n",
       "      <td>1</td>\n",
       "      <td>1</td>\n",
       "      <td>1</td>\n",
       "      <td>0</td>\n",
       "      <td>1</td>\n",
       "      <td>1</td>\n",
       "    </tr>\n",
       "    <tr>\n",
       "      <th>13068</th>\n",
       "      <td>0</td>\n",
       "      <td>1</td>\n",
       "      <td>0</td>\n",
       "      <td>0</td>\n",
       "      <td>1</td>\n",
       "      <td>0</td>\n",
       "      <td>0</td>\n",
       "      <td>0</td>\n",
       "      <td>0</td>\n",
       "      <td>1</td>\n",
       "      <td>...</td>\n",
       "      <td>0</td>\n",
       "      <td>1</td>\n",
       "      <td>1</td>\n",
       "      <td>0</td>\n",
       "      <td>0</td>\n",
       "      <td>1</td>\n",
       "      <td>1</td>\n",
       "      <td>0</td>\n",
       "      <td>0</td>\n",
       "      <td>1</td>\n",
       "    </tr>\n",
       "    <tr>\n",
       "      <th>15108</th>\n",
       "      <td>0</td>\n",
       "      <td>0</td>\n",
       "      <td>0</td>\n",
       "      <td>0</td>\n",
       "      <td>0</td>\n",
       "      <td>1</td>\n",
       "      <td>1</td>\n",
       "      <td>0</td>\n",
       "      <td>0</td>\n",
       "      <td>1</td>\n",
       "      <td>...</td>\n",
       "      <td>1</td>\n",
       "      <td>0</td>\n",
       "      <td>1</td>\n",
       "      <td>0</td>\n",
       "      <td>0</td>\n",
       "      <td>0</td>\n",
       "      <td>1</td>\n",
       "      <td>0</td>\n",
       "      <td>0</td>\n",
       "      <td>1</td>\n",
       "    </tr>\n",
       "  </tbody>\n",
       "</table>\n",
       "<p>5 rows × 40 columns</p>\n",
       "</div>"
      ],
      "text/plain": [
       "       24-Hour Check-in  Air Conditioning  Breakfast  \\\n",
       "7369                  0                 0          0   \n",
       "9419                  0                 1          0   \n",
       "9531                  0                 0          0   \n",
       "13068                 0                 1          0   \n",
       "15108                 0                 0          0   \n",
       "\n",
       "       Buzzer/Wireless Intercom  Cable TV  Carbon Monoxide Detector  Cat(s)  \\\n",
       "7369                          0         0                         0       0   \n",
       "9419                          0         0                         0       0   \n",
       "9531                          0         1                         1       0   \n",
       "13068                         0         1                         0       0   \n",
       "15108                         0         0                         1       1   \n",
       "\n",
       "       Dog(s)  Doorman  Dryer  ...  Safety Card  Shampoo  Smoke Detector  \\\n",
       "7369        0        0      1  ...            0        1               1   \n",
       "9419        1        0      0  ...            0        1               1   \n",
       "9531        0        0      1  ...            1        1               1   \n",
       "13068       0        0      1  ...            0        1               1   \n",
       "15108       0        0      1  ...            1        0               1   \n",
       "\n",
       "       Smoking Allowed  Suitable for Events  TV  Washer  Washer / Dryer  \\\n",
       "7369                 0                    0   1       1               0   \n",
       "9419                 0                    0   0       0               0   \n",
       "9531                 0                    1   1       1               0   \n",
       "13068                0                    0   1       1               0   \n",
       "15108                0                    0   0       1               0   \n",
       "\n",
       "       Wheelchair Accessible  Wireless Internet  \n",
       "7369                       0                  1  \n",
       "9419                       0                  1  \n",
       "9531                       1                  1  \n",
       "13068                      0                  1  \n",
       "15108                      0                  1  \n",
       "\n",
       "[5 rows x 40 columns]"
      ]
     },
     "execution_count": 395,
     "metadata": {},
     "output_type": "execute_result"
    }
   ],
   "source": [
    "# Use MultiLabelBinarizer() to one hot encode the amenities data because amenities column has multiple labels.\n",
    "mlb = MultiLabelBinarizer()\n",
    "amenities = pd.DataFrame(mlb.fit_transform(Seattle_drop.pop('amenities')),\n",
    "                          columns=mlb.classes_,\n",
    "                          index=Seattle_drop.index)\n",
    "amenities.head()"
   ]
  },
  {
   "cell_type": "code",
   "execution_count": 396,
   "metadata": {},
   "outputs": [
    {
     "data": {
      "text/html": [
       "<div>\n",
       "<style scoped>\n",
       "    .dataframe tbody tr th:only-of-type {\n",
       "        vertical-align: middle;\n",
       "    }\n",
       "\n",
       "    .dataframe tbody tr th {\n",
       "        vertical-align: top;\n",
       "    }\n",
       "\n",
       "    .dataframe thead th {\n",
       "        text-align: right;\n",
       "    }\n",
       "</style>\n",
       "<table border=\"1\" class=\"dataframe\">\n",
       "  <thead>\n",
       "    <tr style=\"text-align: right;\">\n",
       "      <th></th>\n",
       "      <th>property_type</th>\n",
       "      <th>room_type</th>\n",
       "      <th>bed_type</th>\n",
       "    </tr>\n",
       "  </thead>\n",
       "  <tbody>\n",
       "    <tr>\n",
       "      <th>7369</th>\n",
       "      <td>Condominium</td>\n",
       "      <td>Entire home/apt</td>\n",
       "      <td>Real Bed</td>\n",
       "    </tr>\n",
       "    <tr>\n",
       "      <th>9419</th>\n",
       "      <td>House</td>\n",
       "      <td>Private room</td>\n",
       "      <td>Real Bed</td>\n",
       "    </tr>\n",
       "    <tr>\n",
       "      <th>9531</th>\n",
       "      <td>House</td>\n",
       "      <td>Entire home/apt</td>\n",
       "      <td>Real Bed</td>\n",
       "    </tr>\n",
       "    <tr>\n",
       "      <th>13068</th>\n",
       "      <td>House</td>\n",
       "      <td>Entire home/apt</td>\n",
       "      <td>Real Bed</td>\n",
       "    </tr>\n",
       "    <tr>\n",
       "      <th>15108</th>\n",
       "      <td>House</td>\n",
       "      <td>Private room</td>\n",
       "      <td>Real Bed</td>\n",
       "    </tr>\n",
       "    <tr>\n",
       "      <th>...</th>\n",
       "      <td>...</td>\n",
       "      <td>...</td>\n",
       "      <td>...</td>\n",
       "    </tr>\n",
       "    <tr>\n",
       "      <th>2197982</th>\n",
       "      <td>Apartment</td>\n",
       "      <td>Entire home/apt</td>\n",
       "      <td>Real Bed</td>\n",
       "    </tr>\n",
       "    <tr>\n",
       "      <th>2203983</th>\n",
       "      <td>House</td>\n",
       "      <td>Entire home/apt</td>\n",
       "      <td>Real Bed</td>\n",
       "    </tr>\n",
       "    <tr>\n",
       "      <th>2267088</th>\n",
       "      <td>Apartment</td>\n",
       "      <td>Entire home/apt</td>\n",
       "      <td>Real Bed</td>\n",
       "    </tr>\n",
       "    <tr>\n",
       "      <th>2309250</th>\n",
       "      <td>House</td>\n",
       "      <td>Entire home/apt</td>\n",
       "      <td>Real Bed</td>\n",
       "    </tr>\n",
       "    <tr>\n",
       "      <th>8673979</th>\n",
       "      <td>Apartment</td>\n",
       "      <td>Entire home/apt</td>\n",
       "      <td>Real Bed</td>\n",
       "    </tr>\n",
       "  </tbody>\n",
       "</table>\n",
       "<p>95 rows × 3 columns</p>\n",
       "</div>"
      ],
      "text/plain": [
       "        property_type        room_type  bed_type\n",
       "7369      Condominium  Entire home/apt  Real Bed\n",
       "9419            House     Private room  Real Bed\n",
       "9531            House  Entire home/apt  Real Bed\n",
       "13068           House  Entire home/apt  Real Bed\n",
       "15108           House     Private room  Real Bed\n",
       "...               ...              ...       ...\n",
       "2197982     Apartment  Entire home/apt  Real Bed\n",
       "2203983         House  Entire home/apt  Real Bed\n",
       "2267088     Apartment  Entire home/apt  Real Bed\n",
       "2309250         House  Entire home/apt  Real Bed\n",
       "8673979     Apartment  Entire home/apt  Real Bed\n",
       "\n",
       "[95 rows x 3 columns]"
      ]
     },
     "execution_count": 396,
     "metadata": {},
     "output_type": "execute_result"
    }
   ],
   "source": [
    "#lets see the remaining categorical variable  \n",
    "Seattle_drop.select_dtypes(include='object')"
   ]
  },
  {
   "cell_type": "code",
   "execution_count": 412,
   "metadata": {},
   "outputs": [],
   "source": [
    "#lets select these categorical variable to produce \n",
    "non_numeric_cata = [ 'property_type', 'room_type', 'bed_type']"
   ]
  },
  {
   "cell_type": "code",
   "execution_count": 413,
   "metadata": {},
   "outputs": [],
   "source": [
    "# we can get dummies the rest of the non-numeric catagorical data\n",
    "nn_cata = pd.get_dummies(Seattle_drop[non_numeric_cata])"
   ]
  },
  {
   "cell_type": "code",
   "execution_count": 414,
   "metadata": {},
   "outputs": [],
   "source": [
    "#lets drop those categorical variable that have been converted to dummy in previous part\n",
    "Seattle_input = Seattle_drop.drop(columns=['property_type', 'room_type', 'bed_type'])\n",
    "\n",
    "Seattle_join_temp = pd.merge(Seattle_input, nn_cata, left_index=True, right_index=True)\n",
    "Seattle_join =  pd.merge(Seattle_join_temp, amenities, left_index=True, right_index=True)"
   ]
  },
  {
   "cell_type": "code",
   "execution_count": 415,
   "metadata": {},
   "outputs": [
    {
     "data": {
      "text/html": [
       "<div>\n",
       "<style scoped>\n",
       "    .dataframe tbody tr th:only-of-type {\n",
       "        vertical-align: middle;\n",
       "    }\n",
       "\n",
       "    .dataframe tbody tr th {\n",
       "        vertical-align: top;\n",
       "    }\n",
       "\n",
       "    .dataframe thead th {\n",
       "        text-align: right;\n",
       "    }\n",
       "</style>\n",
       "<table border=\"1\" class=\"dataframe\">\n",
       "  <thead>\n",
       "    <tr style=\"text-align: right;\">\n",
       "      <th></th>\n",
       "      <th>price_x</th>\n",
       "      <th>accommodates</th>\n",
       "      <th>bathrooms</th>\n",
       "      <th>bedrooms</th>\n",
       "      <th>beds</th>\n",
       "      <th>square_feet</th>\n",
       "      <th>number_of_reviews</th>\n",
       "      <th>review_scores_rating</th>\n",
       "      <th>review_scores_accuracy</th>\n",
       "      <th>review_scores_cleanliness</th>\n",
       "      <th>...</th>\n",
       "      <th>Safety Card</th>\n",
       "      <th>Shampoo</th>\n",
       "      <th>Smoke Detector</th>\n",
       "      <th>Smoking Allowed</th>\n",
       "      <th>Suitable for Events</th>\n",
       "      <th>TV</th>\n",
       "      <th>Washer</th>\n",
       "      <th>Washer / Dryer</th>\n",
       "      <th>Wheelchair Accessible</th>\n",
       "      <th>Wireless Internet</th>\n",
       "    </tr>\n",
       "  </thead>\n",
       "  <tbody>\n",
       "    <tr>\n",
       "      <th>7369</th>\n",
       "      <td>85.0</td>\n",
       "      <td>2</td>\n",
       "      <td>1.0</td>\n",
       "      <td>1.0</td>\n",
       "      <td>1.0</td>\n",
       "      <td>800.0</td>\n",
       "      <td>40</td>\n",
       "      <td>94.0</td>\n",
       "      <td>10.0</td>\n",
       "      <td>10.0</td>\n",
       "      <td>...</td>\n",
       "      <td>0</td>\n",
       "      <td>1</td>\n",
       "      <td>1</td>\n",
       "      <td>0</td>\n",
       "      <td>0</td>\n",
       "      <td>1</td>\n",
       "      <td>1</td>\n",
       "      <td>0</td>\n",
       "      <td>0</td>\n",
       "      <td>1</td>\n",
       "    </tr>\n",
       "    <tr>\n",
       "      <th>9419</th>\n",
       "      <td>90.0</td>\n",
       "      <td>2</td>\n",
       "      <td>3.0</td>\n",
       "      <td>1.0</td>\n",
       "      <td>1.0</td>\n",
       "      <td>200.0</td>\n",
       "      <td>79</td>\n",
       "      <td>91.0</td>\n",
       "      <td>9.0</td>\n",
       "      <td>9.0</td>\n",
       "      <td>...</td>\n",
       "      <td>0</td>\n",
       "      <td>1</td>\n",
       "      <td>1</td>\n",
       "      <td>0</td>\n",
       "      <td>0</td>\n",
       "      <td>0</td>\n",
       "      <td>0</td>\n",
       "      <td>0</td>\n",
       "      <td>0</td>\n",
       "      <td>1</td>\n",
       "    </tr>\n",
       "    <tr>\n",
       "      <th>9531</th>\n",
       "      <td>165.0</td>\n",
       "      <td>4</td>\n",
       "      <td>1.0</td>\n",
       "      <td>2.0</td>\n",
       "      <td>5.0</td>\n",
       "      <td>1200.0</td>\n",
       "      <td>26</td>\n",
       "      <td>100.0</td>\n",
       "      <td>10.0</td>\n",
       "      <td>10.0</td>\n",
       "      <td>...</td>\n",
       "      <td>1</td>\n",
       "      <td>1</td>\n",
       "      <td>1</td>\n",
       "      <td>0</td>\n",
       "      <td>1</td>\n",
       "      <td>1</td>\n",
       "      <td>1</td>\n",
       "      <td>0</td>\n",
       "      <td>1</td>\n",
       "      <td>1</td>\n",
       "    </tr>\n",
       "    <tr>\n",
       "      <th>13068</th>\n",
       "      <td>360.0</td>\n",
       "      <td>10</td>\n",
       "      <td>2.0</td>\n",
       "      <td>3.0</td>\n",
       "      <td>5.0</td>\n",
       "      <td>1850.0</td>\n",
       "      <td>26</td>\n",
       "      <td>93.0</td>\n",
       "      <td>9.0</td>\n",
       "      <td>9.0</td>\n",
       "      <td>...</td>\n",
       "      <td>0</td>\n",
       "      <td>1</td>\n",
       "      <td>1</td>\n",
       "      <td>0</td>\n",
       "      <td>0</td>\n",
       "      <td>1</td>\n",
       "      <td>1</td>\n",
       "      <td>0</td>\n",
       "      <td>0</td>\n",
       "      <td>1</td>\n",
       "    </tr>\n",
       "    <tr>\n",
       "      <th>15108</th>\n",
       "      <td>60.0</td>\n",
       "      <td>2</td>\n",
       "      <td>1.5</td>\n",
       "      <td>1.0</td>\n",
       "      <td>1.0</td>\n",
       "      <td>140.0</td>\n",
       "      <td>42</td>\n",
       "      <td>86.0</td>\n",
       "      <td>9.0</td>\n",
       "      <td>8.0</td>\n",
       "      <td>...</td>\n",
       "      <td>1</td>\n",
       "      <td>0</td>\n",
       "      <td>1</td>\n",
       "      <td>0</td>\n",
       "      <td>0</td>\n",
       "      <td>0</td>\n",
       "      <td>1</td>\n",
       "      <td>0</td>\n",
       "      <td>0</td>\n",
       "      <td>1</td>\n",
       "    </tr>\n",
       "  </tbody>\n",
       "</table>\n",
       "<p>5 rows × 71 columns</p>\n",
       "</div>"
      ],
      "text/plain": [
       "       price_x  accommodates  bathrooms  bedrooms  beds  square_feet  \\\n",
       "7369      85.0             2        1.0       1.0   1.0        800.0   \n",
       "9419      90.0             2        3.0       1.0   1.0        200.0   \n",
       "9531     165.0             4        1.0       2.0   5.0       1200.0   \n",
       "13068    360.0            10        2.0       3.0   5.0       1850.0   \n",
       "15108     60.0             2        1.5       1.0   1.0        140.0   \n",
       "\n",
       "       number_of_reviews  review_scores_rating  review_scores_accuracy  \\\n",
       "7369                  40                  94.0                    10.0   \n",
       "9419                  79                  91.0                     9.0   \n",
       "9531                  26                 100.0                    10.0   \n",
       "13068                 26                  93.0                     9.0   \n",
       "15108                 42                  86.0                     9.0   \n",
       "\n",
       "       review_scores_cleanliness  ...  Safety Card  Shampoo  Smoke Detector  \\\n",
       "7369                        10.0  ...            0        1               1   \n",
       "9419                         9.0  ...            0        1               1   \n",
       "9531                        10.0  ...            1        1               1   \n",
       "13068                        9.0  ...            0        1               1   \n",
       "15108                        8.0  ...            1        0               1   \n",
       "\n",
       "       Smoking Allowed  Suitable for Events  TV  Washer  Washer / Dryer  \\\n",
       "7369                 0                    0   1       1               0   \n",
       "9419                 0                    0   0       0               0   \n",
       "9531                 0                    1   1       1               0   \n",
       "13068                0                    0   1       1               0   \n",
       "15108                0                    0   0       1               0   \n",
       "\n",
       "       Wheelchair Accessible  Wireless Internet  \n",
       "7369                       0                  1  \n",
       "9419                       0                  1  \n",
       "9531                       1                  1  \n",
       "13068                      0                  1  \n",
       "15108                      0                  1  \n",
       "\n",
       "[5 rows x 71 columns]"
      ]
     },
     "execution_count": 415,
     "metadata": {},
     "output_type": "execute_result"
    }
   ],
   "source": [
    "Seattle_join.head()"
   ]
  },
  {
   "cell_type": "code",
   "execution_count": 416,
   "metadata": {},
   "outputs": [
    {
     "data": {
      "text/plain": [
       "Index(['price_x', 'accommodates', 'bathrooms', 'bedrooms', 'beds',\n",
       "       'square_feet', 'number_of_reviews', 'review_scores_rating',\n",
       "       'review_scores_accuracy', 'review_scores_cleanliness',\n",
       "       'review_scores_checkin', 'review_scores_communication',\n",
       "       'review_scores_location', 'review_scores_value', 'reviews_per_month',\n",
       "       'property_type_Apartment', 'property_type_Bed & Breakfast',\n",
       "       'property_type_Boat', 'property_type_Cabin', 'property_type_Chalet',\n",
       "       'property_type_Condominium', 'property_type_House',\n",
       "       'property_type_Other', 'property_type_Townhouse',\n",
       "       'room_type_Entire home/apt', 'room_type_Private room',\n",
       "       'bed_type_Airbed', 'bed_type_Couch', 'bed_type_Futon',\n",
       "       'bed_type_Pull-out Sofa', 'bed_type_Real Bed', '24-Hour Check-in',\n",
       "       'Air Conditioning', 'Breakfast', 'Buzzer/Wireless Intercom', 'Cable TV',\n",
       "       'Carbon Monoxide Detector', 'Cat(s)', 'Dog(s)', 'Doorman', 'Dryer',\n",
       "       'Elevator in Building', 'Essentials', 'Family/Kid Friendly',\n",
       "       'Fire Extinguisher', 'First Aid Kit', 'Free Parking on Premises', 'Gym',\n",
       "       'Hair Dryer', 'Hangers', 'Heating', 'Hot Tub', 'Indoor Fireplace',\n",
       "       'Internet', 'Iron', 'Kitchen', 'Laptop Friendly Workspace',\n",
       "       'Other pet(s)', 'Pets Allowed', 'Pets live on this property', 'Pool',\n",
       "       'Safety Card', 'Shampoo', 'Smoke Detector', 'Smoking Allowed',\n",
       "       'Suitable for Events', 'TV', 'Washer', 'Washer / Dryer',\n",
       "       'Wheelchair Accessible', 'Wireless Internet'],\n",
       "      dtype='object')"
      ]
     },
     "execution_count": 416,
     "metadata": {},
     "output_type": "execute_result"
    }
   ],
   "source": [
    "Seattle_join.columns"
   ]
  },
  {
   "cell_type": "code",
   "execution_count": 417,
   "metadata": {},
   "outputs": [
    {
     "data": {
      "text/plain": [
       "71"
      ]
     },
     "execution_count": 417,
     "metadata": {},
     "output_type": "execute_result"
    }
   ],
   "source": [
    "len(Seattle_join.columns[0:])"
   ]
  },
  {
   "cell_type": "code",
   "execution_count": 418,
   "metadata": {},
   "outputs": [],
   "source": [
    "# Set the X & Y variables\n",
    "X = Seattle_join.iloc[:,1:]\n",
    "Y = Seattle_join.iloc[:,0].values\n",
    "\n",
    "# split into training & testing data\n",
    "X_train, X_test, y_train, y_test = train_test_split(X, Y, test_size=0.2)"
   ]
  },
  {
   "cell_type": "code",
   "execution_count": 420,
   "metadata": {},
   "outputs": [
    {
     "name": "stdout",
     "output_type": "stream",
     "text": [
      "Random Forest MSE train: 485.810, test: 6829.493\n",
      "Random Forest R^2 train: 0.951, test: 0.540\n"
     ]
    }
   ],
   "source": [
    "#training RF regressor model\n",
    "model_forest = RandomForestRegressor(n_estimators=100, \n",
    "                               criterion='mse', \n",
    "                               random_state=42, \n",
    "                               n_jobs=-1)\n",
    "model_forest.fit(X_train, y_train.squeeze())\n",
    "\n",
    "\n",
    "y_train_preds = model_forest.predict(X_train)\n",
    "y_test_preds = model_forest.predict(X_test)\n",
    "\n",
    "print('Random Forest MSE train: %.3f, test: %.3f' % (\n",
    "        mean_squared_error(y_train, y_train_preds),\n",
    "        mean_squared_error(y_test, y_test_preds)))\n",
    "print('Random Forest R^2 train: %.3f, test: %.3f' % (\n",
    "        r2_score(y_train, y_train_preds),\n",
    "        r2_score(y_test, y_test_preds)))"
   ]
  },
  {
   "cell_type": "code",
   "execution_count": 443,
   "metadata": {},
   "outputs": [
    {
     "name": "stdout",
     "output_type": "stream",
     "text": [
      "Mean Absolute error: 54\n",
      "Accuracy: 65.9 %.\n"
     ]
    }
   ],
   "source": [
    "# Calculate accuracy instead of RMSE\n",
    "\n",
    "# Obtain the absolute erros for each prediction\n",
    "errors = abs(y_preds - y_test)\n",
    "\n",
    "# Calculate mean absolute percentage error (MAE)\n",
    "mae = np.mean(errors)\n",
    "\n",
    "print('Mean Absolute error:', round(np.mean(mae)))\n",
    "\n",
    "# Calculate mean absolute percentage error (MAPE)\n",
    "mape = np.mean(100 * (errors / y_test))\n",
    "# Calculate and display accuracy\n",
    "accuracy = 100 - mape\n",
    "print('Accuracy:', round(accuracy, 2), '%.')\n"
   ]
  },
  {
   "cell_type": "code",
   "execution_count": 444,
   "metadata": {},
   "outputs": [
    {
     "data": {
      "image/png": "[encoded data removed]",
      "text/plain": [
       "<Figure size 720x360 with 1 Axes>"
      ]
     },
     "metadata": {
      "needs_background": "light"
     },
     "output_type": "display_data"
    }
   ],
   "source": [
    "#getting feature importances from the model\n",
    "col_heads = [\"name\", \"score\"]\n",
    "values = sorted(zip(X_train.columns, model_forest.feature_importances_), key=lambda x: x[1] * -1)\n",
    "forest_feature_importances = pd.DataFrame(values, columns = col_heads)\n",
    "forest_feature_importances = forest_feature_importances.sort_values(by = ['score'], ascending = False)\n",
    "\n",
    "#plotting top 15 features as per feature importance\n",
    "features = forest_feature_importances['name'][:15]\n",
    "y_pos = np.arange(len(features))\n",
    "scores = forest_feature_importances['score'][:15]\n",
    "\n",
    "plt.figure(figsize=(10,5))\n",
    "plt.bar(y_pos, scores, align='center', alpha=0.5)\n",
    "plt.xticks(y_pos, features, rotation='vertical')\n",
    "plt.ylabel('Score')\n",
    "plt.xlabel('Features')\n",
    "plt.title('Feature importances (Random Forest)')\n",
    "\n",
    "plt.savefig('feature importances RF.png')\n",
    " \n",
    "plt.show()"
   ]
  },
  {
   "cell_type": "code",
   "execution_count": 447,
   "metadata": {},
   "outputs": [
    {
     "name": "stdout",
     "output_type": "stream",
     "text": [
      "MSE train: 20.013, test: 5809.195\n",
      "R^2 train: 0.998, test: 0.608\n"
     ]
    },
    {
     "name": "stderr",
     "output_type": "stream",
     "text": [
      "C:\\Users\\iranm\\Anaconda3\\lib\\site-packages\\xgboost\\data.py:112: UserWarning: Use subset (sliced data) of np.ndarray is not recommended because it will generate extra copies and increase memory consumption\n",
      "  warnings.warn(\n"
     ]
    }
   ],
   "source": [
    "#train XGBoost model\n",
    "model_xgb = xgboost.XGBRegressor(n_estimators=100, learning_rate=0.08, gamma=0, subsample=0.75,\n",
    "                           colsample_bytree=1, max_depth=7)\n",
    "model_xgb.fit(X_train,y_train)\n",
    "\n",
    "\n",
    "y_train_preds = model_xgb.predict(X_train)\n",
    "y_test_preds = model_xgb.predict(X_test)\n",
    "\n",
    "print('MSE train: %.3f, test: %.3f' % (\n",
    "        mean_squared_error(y_train, y_train_preds),\n",
    "        mean_squared_error(y_test, y_test_preds)))\n",
    "print('R^2 train: %.3f, test: %.3f' % (\n",
    "        r2_score(y_train, y_train_preds),\n",
    "        r2_score(y_test, y_test_preds)))"
   ]
  },
  {
   "cell_type": "code",
   "execution_count": 448,
   "metadata": {},
   "outputs": [
    {
     "name": "stdout",
     "output_type": "stream",
     "text": [
      "Mean Absolute error: 49\n",
      "Accuracy: 69.49 %.\n"
     ]
    }
   ],
   "source": [
    "# Calculate accuracy instead of RMSE\n",
    "\n",
    "# Obtain the absolute erros for each prediction\n",
    "errors = abs(y_test_preds - y_test)\n",
    "\n",
    "# Calculate mean absolute percentage error (MAE)\n",
    "mae = np.mean(errors)\n",
    "\n",
    "print('Mean Absolute error:', round(np.mean(mae)))\n",
    "\n",
    "# Calculate mean absolute percentage error (MAPE)\n",
    "mape = np.mean(100 * (errors / y_test))\n",
    "# Calculate and display accuracy\n",
    "accuracy = 100 - mape\n",
    "print('Accuracy:', round(accuracy, 2), '%.')\n"
   ]
  },
  {
   "cell_type": "code",
   "execution_count": 434,
   "metadata": {},
   "outputs": [
    {
     "data": {
      "image/png": "[encoded data removed]",
      "text/plain": [
       "<Figure size 720x360 with 1 Axes>"
      ]
     },
     "metadata": {
      "needs_background": "light"
     },
     "output_type": "display_data"
    }
   ],
   "source": [
    "#get feature importances from the model\n",
    "col_heads = [\"name\", \"score\"]\n",
    "values = sorted(zip(X_train.columns, model_xgb.feature_importances_), key=lambda x: x[1] * -1)\n",
    "xgb_feature_importances = pd.DataFrame(values, columns = col_heads)\n",
    "\n",
    "#plotting top 15 features as per feature importance\n",
    "features = xgb_feature_importances['name'][:15]\n",
    "y_pos = np.arange(len(features))\n",
    "scores = xgb_feature_importances['score'][:15]\n",
    " \n",
    "plt.figure(figsize=(10,5))\n",
    "plt.bar(y_pos, scores, align='center', alpha=0.5)\n",
    "plt.xticks(y_pos, features, rotation='vertical')\n",
    "plt.ylabel('Score')\n",
    "plt.xlabel('Features')\n",
    "plt.title('Feature importances (XGBoost)')\n",
    "\n",
    "plt.savefig('feature importances XGB.png')\n",
    " \n",
    "plt.show()"
   ]
  },
  {
   "cell_type": "markdown",
   "metadata": {},
   "source": [
    "**The answer:**\n",
    "\n",
    "The r2 score of the prediction model for Seattle database with Random Forest algorithm,R^2  are 0.951 for train, and 0.540 for test . with XGBoost algorithm,R^2  are 0.998 for train, and 0.608 for test. There is no overfitting in the model, but I think the model needs some improvments to increase the r2 score for test dataset. XGBoost algorithm has better accuracy and R^2.\n",
    "In Random forest algorithms the important features that impact on price are slightly different from XGBoost. But they have many common features that have impact on price. Bedrooms and accomodationin both are the most important featurs that influence on price.\n",
    "\n",
    "We can repeat steps 1 to 8 for boston to create a model."
   ]
  },
  {
   "cell_type": "code",
   "execution_count": null,
   "metadata": {},
   "outputs": [],
   "source": []
  }
 ],
 "metadata": {
  "kernelspec": {
   "display_name": "Python 3",
   "language": "python",
   "name": "python3"
  },
  "language_info": {
   "codemirror_mode": {
    "name": "ipython",
    "version": 3
   },
   "file_extension": ".py",
   "mimetype": "text/x-python",
   "name": "python",
   "nbconvert_exporter": "python",
   "pygments_lexer": "ipython3",
   "version": "3.8.5"
  }
 },
 "nbformat": 4,
 "nbformat_minor": 2
}
